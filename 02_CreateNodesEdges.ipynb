{
 "cells": [
  {
   "cell_type": "code",
   "execution_count": null,
   "metadata": {},
   "outputs": [],
   "source": [
    "!pip install pandas"
   ]
  },
  {
   "cell_type": "code",
   "execution_count": null,
   "metadata": {},
   "outputs": [],
   "source": [
    "import pandas as pd\n",
    "\n",
    "def read_df(region):\n",
    "    return pd.read_pickle(path='./tweets_database_{}.pickle'.format(region))"
   ]
  },
  {
   "cell_type": "code",
   "execution_count": null,
   "metadata": {},
   "outputs": [],
   "source": [
    "def create_nodes(df):\n",
    "\n",
    "    # create a DF of nodes of the network\n",
    "    columns = ['user_id', 'username']\n",
    "    nodelist = pd.DataFrame(columns=columns)\n",
    "\n",
    "    # insert all tweet.users\n",
    "    nodelist['user_id'] = df['user_id_str']\n",
    "    nodelist['username'] = df['user_screen_name']\n",
    "    nodelist.set_index('user_id')\n",
    "\n",
    "    def get_users(user_id, username):\n",
    "        \"\"\"Get users from mentions, replies, retweets\"\"\"\n",
    "        reduce = df.dropna(subset=[user_id, username])\n",
    "        insert_list = []\n",
    "        for index, row in reduce.iterrows():\n",
    "            user = {'user_id': row[user_id], 'username': row[username]}\n",
    "            insert_list.append(user)\n",
    "        return pd.DataFrame(insert_list, columns=columns)\n",
    "\n",
    "    # insert all users of tweet.user_mentions\n",
    "    nodelist = nodelist.append(get_users('user_mention_id_str', 'user_mention_screen_name'), sort=False)\n",
    "\n",
    "    # insert all users of tweet.replies\n",
    "    nodelist = nodelist.append(get_users('in_reply_to_user_id_str', 'in_reply_to_screen_name'), sort=False)\n",
    "\n",
    "    # insert all users of tweet.retweets\n",
    "    nodelist = nodelist.append(get_users('retweeted_user_id_str', 'retweeted_user_screen_name'), sort=False)\n",
    "\n",
    "    # drop duplicates\n",
    "    nodelist.drop_duplicates(subset=columns, inplace=True)\n",
    "    print(nodelist.info)\n",
    "    return nodelist"
   ]
  },
  {
   "cell_type": "code",
   "execution_count": null,
   "metadata": {},
   "outputs": [],
   "source": [
    "def create_edges(df):\n",
    "\n",
    "    # Create a DF of directed edges connecting the nodes of the network\n",
    "    columns = ['source_id', 'target_id']\n",
    "    edgelist = pd.DataFrame(columns=columns)\n",
    "\n",
    "    def get_interactions(source_id, target_id):\n",
    "        \"\"\"Get interactions from mentions, replies, retweets\"\"\"\n",
    "        reduce = df.dropna(subset=[source_id, target_id])\n",
    "        insert_list = []\n",
    "        for index, row in reduce.iterrows():\n",
    "            interaction = {'source_id': row[source_id], 'target_id': row[target_id]}\n",
    "            insert_list.append(interaction)\n",
    "        return pd.DataFrame(insert_list, columns=columns)\n",
    "\n",
    "    # insert all user mentions, source=original, target=user mentioning another user\n",
    "    edgelist = edgelist.append(get_interactions(source_id='user_mention_id_str', target_id='user_id_str'))\n",
    "\n",
    "    # insert all replies, source=original, target=user replying to another user\n",
    "    edgelist = edgelist.append(get_interactions(source_id='in_reply_to_user_id_str', target_id='user_id_str'))\n",
    "\n",
    "    # insert all retweets, source=original, target=user retweeting another user\n",
    "    edgelist = edgelist.append(get_interactions(source_id='retweeted_user_id_str', target_id='user_id_str'))\n",
    "\n",
    "    # drop duplicates\n",
    "    edgelist.drop_duplicates(subset=['source_id', 'target_id'], inplace=True)\n",
    "\n",
    "    # remove self-references (e.g. replies to your own account)\n",
    "    edgelist = edgelist[edgelist.source_id != edgelist.target_id]\n",
    "\n",
    "    print(edgelist.info)\n",
    "    return edgelist"
   ]
  },
  {
   "cell_type": "code",
   "execution_count": null,
   "metadata": {},
   "outputs": [],
   "source": [
    "def drop_isolates(nodelist, edgelist):\n",
    "    # drop users that do not have any retweets, replies, or mentions to keep the graph lighter\n",
    "    user_edges = edgelist['source_id']\n",
    "    user_edges = user_edges.append(edgelist['target_id'])\n",
    "    nodelist_filtered = nodelist[nodelist.user_id.isin(list(user_edges))]\n",
    "    return nodelist_filtered\n",
    "    "
   ]
  },
  {
   "cell_type": "code",
   "execution_count": null,
   "metadata": {},
   "outputs": [],
   "source": [
    "def to_gephi(region, nodelist, edgelist):\n",
    "    gephi_nodes = nodelist.rename(columns={'user_id': 'Id', 'username': 'Label'})\n",
    "    gephi_nodes.to_csv('nodelist_{}.csv'.format(region), index=False)\n",
    "    gephi_edges = edgelist.rename(columns={'source_id': 'Source', 'target_id': 'Target'})\n",
    "    gephi_edges.to_csv('edgelist_{}.csv'.format(region), index=False)"
   ]
  },
  {
   "cell_type": "code",
   "execution_count": null,
   "metadata": {},
   "outputs": [],
   "source": [
    "def run_for_country(region):\n",
    "    print(\"Region: {}\".format(region))\n",
    "    df = read_df(region=region)\n",
    "    nodelist = create_nodes(df)\n",
    "    edgelist = create_edges(df)\n",
    "    \n",
    "    nodelist = drop_isolates(nodelist, edgelist)\n",
    "    \n",
    "    to_gephi(region, nodelist, edgelist)\n",
    "    "
   ]
  },
  {
   "cell_type": "code",
   "execution_count": null,
   "metadata": {},
   "outputs": [],
   "source": [
    "if __name__ == '__main__':\n",
    "    \n",
    "    run_for_country(region='netherlands')\n",
    "    run_for_country(region='germany')"
   ]
  },
  {
   "cell_type": "code",
   "execution_count": null,
   "metadata": {},
   "outputs": [],
   "source": []
  }
 ],
 "metadata": {
  "celltoolbar": "Raw Cell Format",
  "kernelspec": {
   "display_name": "Python 3",
   "language": "python",
   "name": "python3"
  },
  "language_info": {
   "codemirror_mode": {
    "name": "ipython",
    "version": 3
   },
   "file_extension": ".py",
   "mimetype": "text/x-python",
   "name": "python",
   "nbconvert_exporter": "python",
   "pygments_lexer": "ipython3",
   "version": "3.5.3"
  }
 },
 "nbformat": 4,
 "nbformat_minor": 4
}
