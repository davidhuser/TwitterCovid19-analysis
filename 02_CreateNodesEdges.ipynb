{
 "cells": [
  {
   "cell_type": "code",
   "execution_count": null,
   "metadata": {},
   "outputs": [],
   "source": [
    "!pip install pandas"
   ]
  },
  {
   "cell_type": "code",
   "execution_count": 1,
   "metadata": {},
   "outputs": [],
   "source": [
    "import pandas as pd\n",
    "\n",
    "def read_df(region):\n",
    "    return pd.read_pickle(path='./tweets_database_{}.pickle'.format(region))"
   ]
  },
  {
   "cell_type": "code",
   "execution_count": 2,
   "metadata": {},
   "outputs": [],
   "source": [
    "def create_nodes(df):\n",
    "\n",
    "    # create a DF of nodes of the network\n",
    "    columns = ['user_id', 'username']\n",
    "    nodelist = pd.DataFrame(columns=columns)\n",
    "\n",
    "    # insert all tweet.users\n",
    "    nodelist['user_id'] = df['user_id_str']\n",
    "    nodelist['username'] = df['user_screen_name']\n",
    "    nodelist.set_index('user_id')\n",
    "\n",
    "    def get_users(user_id, username):\n",
    "        \"\"\"Get users from mentions, replies, retweets\"\"\"\n",
    "        reduce = df.dropna(subset=[user_id, username])\n",
    "        insert_list = []\n",
    "        for index, row in reduce.iterrows():\n",
    "            user = {'user_id': row[user_id], 'username': row[username]}\n",
    "            insert_list.append(user)\n",
    "        return pd.DataFrame(insert_list, columns=columns)\n",
    "\n",
    "    # insert all users of tweet.user_mentions\n",
    "    nodelist = nodelist.append(get_users('user_mention_id_str', 'user_mention_screen_name'), sort=False)\n",
    "\n",
    "    # insert all users of tweet.replies\n",
    "    nodelist = nodelist.append(get_users('in_reply_to_user_id_str', 'in_reply_to_screen_name'), sort=False)\n",
    "\n",
    "    # insert all users of tweet.retweets\n",
    "    nodelist = nodelist.append(get_users('retweeted_user_id_str', 'retweeted_user_screen_name'), sort=False)\n",
    "\n",
    "    # drop duplicates\n",
    "    nodelist.drop_duplicates(subset=columns, inplace=True)\n",
    "    print(nodelist.info)\n",
    "    return nodelist"
   ]
  },
  {
   "cell_type": "code",
   "execution_count": 3,
   "metadata": {},
   "outputs": [],
   "source": [
    "def create_edges(df):\n",
    "\n",
    "    # Create a DF of directed edges connecting the nodes of the network\n",
    "    columns = ['source_id', 'target_id']\n",
    "    edgelist = pd.DataFrame(columns=columns)\n",
    "\n",
    "    def get_interactions(source_id, target_id):\n",
    "        \"\"\"Get interactions from mentions, replies, retweets\"\"\"\n",
    "        reduce = df.dropna(subset=[source_id, target_id])\n",
    "        insert_list = []\n",
    "        for index, row in reduce.iterrows():\n",
    "            interaction = {'source_id': row[source_id], 'target_id': row[target_id]}\n",
    "            insert_list.append(interaction)\n",
    "        return pd.DataFrame(insert_list, columns=columns)\n",
    "\n",
    "    # insert all user mentions, source=original, target=user mentioning another user\n",
    "    edgelist = edgelist.append(get_interactions(source_id='user_mention_id_str', target_id='user_id_str'))\n",
    "\n",
    "    # insert all replies, source=original, target=user replying to another user\n",
    "    edgelist = edgelist.append(get_interactions(source_id='in_reply_to_user_id_str', target_id='user_id_str'))\n",
    "\n",
    "    # insert all retweets, source=original, target=user retweeting another user\n",
    "    edgelist = edgelist.append(get_interactions(source_id='retweeted_user_id_str', target_id='user_id_str'))\n",
    "\n",
    "    # drop duplicates\n",
    "    edgelist.drop_duplicates(subset=['source_id', 'target_id'], inplace=True)\n",
    "\n",
    "    # remove self-references (e.g. replies to your own account)\n",
    "    edgelist = edgelist[edgelist.source_id != edgelist.target_id]\n",
    "\n",
    "    print(edgelist.info)\n",
    "    return edgelist"
   ]
  },
  {
   "cell_type": "code",
   "execution_count": 4,
   "metadata": {},
   "outputs": [],
   "source": [
    "def drop_isolates(nodelist, edgelist):\n",
    "    # drop users that do not have any retweets, replies, or mentions to keep the graph lighter\n",
    "    user_edges = edgelist['source_id']\n",
    "    user_edges = user_edges.append(edgelist['target_id'])\n",
    "    nodelist_filtered = nodelist[nodelist.user_id.isin(list(user_edges))]\n",
    "    return nodelist_filtered\n",
    "    "
   ]
  },
  {
   "cell_type": "code",
   "execution_count": 5,
   "metadata": {},
   "outputs": [],
   "source": [
    "def to_gephi(region, nodelist, edgelist):\n",
    "    gephi_nodes = nodelist.rename(columns={'user_id': 'Id', 'username': 'Label'})\n",
    "    gephi_nodes.to_csv('nodelist_{}.csv'.format(region), index=False)\n",
    "    gephi_edges = edgelist.rename(columns={'source_id': 'Source', 'target_id': 'Target'})\n",
    "    gephi_edges.to_csv('edgelist_{}.csv'.format(region), index=False)"
   ]
  },
  {
   "cell_type": "code",
   "execution_count": null,
   "metadata": {},
   "outputs": [],
   "source": [
    "def run_for_country(region):\n",
    "    print(\"Region: {}\".format(region))\n",
    "    df = read_df(region=region)\n",
    "    nodelist = create_nodes(df)\n",
    "    edgelist = create_edges(df)\n",
    "    \n",
    "    nodelist = drop_isolates(nodelist, edgelist)\n",
    "    \n",
    "    to_gephi(region, nodelist, edgelist)\n",
    "    "
   ]
  },
  {
   "cell_type": "code",
   "execution_count": null,
   "metadata": {},
   "outputs": [],
   "source": [
    "   \n",
    "run_for_country(region='netherlands')\n",
    "run_for_country(region='germany')"
   ]
  },
  {
   "cell_type": "code",
   "execution_count": 8,
   "metadata": {},
   "outputs": [
    {
     "name": "stdout",
     "output_type": "stream",
     "text": [
      "<bound method DataFrame.info of                    user_id         username\n",
      "0                150347332   mijnkunst_enzo\n",
      "1                557237664            2_bie\n",
      "2      1207546377645023233    kunstnakanker\n",
      "3                728482182    shift4cashtag\n",
      "4      1169703972237729792        khkkoleji\n",
      "...                    ...              ...\n",
      "40396              1358811   PetradeBoevere\n",
      "40398            110969839      goosmdeboer\n",
      "40416            170653983   RickBrink_mvgz\n",
      "40432             10156602            issuu\n",
      "40444  1199743127495618560  MichaelVrijhoef\n",
      "\n",
      "[24514 rows x 2 columns]>\n",
      "<bound method DataFrame.info of                  source_id            target_id\n",
      "0                118084079            150347332\n",
      "1      1185577801501556742            557237664\n",
      "2               1011249745  1207546377645023233\n",
      "3      1185577801501556742            728482182\n",
      "4      1140896863434022912  1169703972237729792\n",
      "...                    ...                  ...\n",
      "2545    841781584579682304           1340408646\n",
      "2664             256012485            203168049\n",
      "5012             862722740            317231859\n",
      "5817             862722740            159285637\n",
      "13056  1227235983499751426  1218362486174441473\n",
      "\n",
      "[31531 rows x 2 columns]>\n",
      "<bound method DataFrame.info of                     user_id         username\n",
      "0                 313388741  Literatourismus\n",
      "1        970437008769339393        b_gabelle\n",
      "2                 269411496          19CMR82\n",
      "3                4406144176    olaf_wittrock\n",
      "4       1176116405277773825     glanz_markus\n",
      "...                     ...              ...\n",
      "153662            611816381           JVLast\n",
      "153708             50622457        gema_news\n",
      "153855             38401057       Wurzelmann\n",
      "153957            944503182        RaulZelik\n",
      "4941    1157972018345795585  TheDude_Lebowsk\n",
      "\n",
      "[88269 rows x 2 columns]>\n",
      "<bound method DataFrame.info of                   source_id            target_id\n",
      "0                  14700783            313388741\n",
      "1                  14700783   970437008769339393\n",
      "2                  14700783            269411496\n",
      "3                  14700783           4406144176\n",
      "4                 113542807  1176116405277773825\n",
      "...                     ...                  ...\n",
      "82503   1220744298863505409            404754787\n",
      "93100    833398209053605888            455830743\n",
      "107967            326235705   806562634803855360\n",
      "136914            357072283  1225126151598878720\n",
      "137660  1057638837101494272   726065930455908353\n",
      "\n",
      "[117596 rows x 2 columns]>\n"
     ]
    }
   ],
   "source": [
    "def nx_stats(region):\n",
    "    # lists for networkx stats\n",
    "    df = read_df(region=region)\n",
    "    nodelist = create_nodes(df)\n",
    "    edgelist = create_edges(df)\n",
    "\n",
    "    to_gephi(region, nodelist, edgelist)\n",
    "\n",
    "nx_stats('netherlands')\n",
    "nx_stats('germany')"
   ]
  },
  {
   "cell_type": "code",
   "execution_count": null,
   "metadata": {},
   "outputs": [],
   "source": []
  }
 ],
 "metadata": {
  "celltoolbar": "Raw Cell Format",
  "kernelspec": {
   "display_name": "Python 3",
   "language": "python",
   "name": "python3"
  },
  "language_info": {
   "codemirror_mode": {
    "name": "ipython",
    "version": 3
   },
   "file_extension": ".py",
   "mimetype": "text/x-python",
   "name": "python",
   "nbconvert_exporter": "python",
   "pygments_lexer": "ipython3",
   "version": "3.5.3"
  }
 },
 "nbformat": 4,
 "nbformat_minor": 4
}
