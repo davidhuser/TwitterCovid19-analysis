{
 "cells": [
  {
   "cell_type": "code",
   "execution_count": 1,
   "metadata": {},
   "outputs": [],
   "source": [
    "import pandas as pd"
   ]
  },
  {
   "cell_type": "code",
   "execution_count": 2,
   "metadata": {},
   "outputs": [],
   "source": [
    "nodes = pd.read_csv('nodelist_italy.csv')\n",
    "edges = pd.read_csv('edgelist_italy.csv')"
   ]
  },
  {
   "cell_type": "code",
   "execution_count": 3,
   "metadata": {},
   "outputs": [
    {
     "data": {
      "text/plain": [
       "Index(['Id', 'Label'], dtype='object')"
      ]
     },
     "execution_count": 3,
     "metadata": {},
     "output_type": "execute_result"
    }
   ],
   "source": [
    "nodes.columns"
   ]
  },
  {
   "cell_type": "code",
   "execution_count": 4,
   "metadata": {},
   "outputs": [
    {
     "data": {
      "text/plain": [
       "Index(['Source', 'Target'], dtype='object')"
      ]
     },
     "execution_count": 4,
     "metadata": {},
     "output_type": "execute_result"
    }
   ],
   "source": [
    "edges.columns"
   ]
  },
  {
   "cell_type": "code",
   "execution_count": 22,
   "metadata": {},
   "outputs": [],
   "source": [
    "edges_count = edges.groupby('Source').count().iloc[:,0].sort_values(ascending = False).iloc[:40]\n",
    "edges_count = pd.DataFrame(edges_count).merge(nodes,how = 'left',left_on = 'Source',right_on = 'Id')"
   ]
  },
  {
   "cell_type": "code",
   "execution_count": 23,
   "metadata": {},
   "outputs": [
    {
     "name": "stdout",
     "output_type": "stream",
     "text": [
      "    Target                   Id            Label\n",
      "0    31522  1100776937004457984      RadioSavana\n",
      "2    14118            167704836  tancredipalmeri\n",
      "4    10264            415653323          GPasqui\n",
      "6     8612           1317085680     sogniappeesi\n",
      "8     7866            234787615   AMorelliMilano\n",
      "10    7786            416476798  stanzaselvaggia\n",
      "12    7742            330262748   FabrizioRomano\n",
      "14    5590  1112474438065377280    LaPrimaManina\n",
      "16    4838           4524412653        BeppeSala\n",
      "18    4530            440815818       DSantanche\n",
      "20    4454            406981868  GiancarloDeRisi\n",
      "22    3652   978697024722829312  ElfoInformatico\n",
      "24    3564             56674519     RegLombardia\n",
      "26    3550            192352800      annatrieste\n",
      "28    3256            188482319         TheRub14\n",
      "30    3246            881001960       LGmarangon\n",
      "32    3232            989423077      4everAnnina\n",
      "34    2792              8226422         ferrazza\n",
      "36    2788             48064085      thaisgcunha\n",
      "38    2292            271596933       pfmajorino\n",
      "40    2284            123657018   ScanziFederico\n",
      "42    2254             26143609        emmevilla\n",
      "44    2228            368950045     giorgio_gori\n",
      "46    2136  1082930003166273543  Gianmar26145917\n",
      "48    2080  1211487148492251138       Lanf040264\n",
      "50    2004             52036241      DavidPuente\n",
      "52    1792              8873182           byoblu\n",
      "54    1782             52424550  fattoquotidiano\n",
      "56    1762   900766265245130753      LaVeritaWeb\n",
      "58    1760            232908749     AndFranchini\n",
      "60    1748            130837695   caritas_milano\n",
      "62    1736             45645250          ldv_ldv\n",
      "64    1688            249795910        valavitor\n",
      "66    1672           1059984817  avvocatorinaldi\n",
      "68    1578            460264679      alesallusti\n",
      "70    1540  1199632696491872256         nicmax25\n",
      "72    1516   776430344841101312    catenaaurea66\n",
      "74    1380             25508589       ilgiornale\n",
      "76    1324            274093178   petergomezblog\n",
      "78    1280            403024792    OrnellaVanoni\n"
     ]
    }
   ],
   "source": [
    "print(edges_count.drop_duplicates())"
   ]
  },
  {
   "cell_type": "code",
   "execution_count": null,
   "metadata": {},
   "outputs": [],
   "source": []
  }
 ],
 "metadata": {
  "kernelspec": {
   "display_name": "Python 3",
   "language": "python",
   "name": "python3"
  },
  "language_info": {
   "codemirror_mode": {
    "name": "ipython",
    "version": 3
   },
   "file_extension": ".py",
   "mimetype": "text/x-python",
   "name": "python",
   "nbconvert_exporter": "python",
   "pygments_lexer": "ipython3",
   "version": "3.5.3"
  }
 },
 "nbformat": 4,
 "nbformat_minor": 2
}
