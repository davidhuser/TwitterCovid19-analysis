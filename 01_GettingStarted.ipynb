{
 "cells": [
  {
   "cell_type": "code",
   "execution_count": null,
   "metadata": {},
   "outputs": [],
   "source": [
    "!pip install networkx"
   ]
  },
  {
   "cell_type": "code",
   "execution_count": null,
   "metadata": {},
   "outputs": [],
   "source": [
    "!pip install pandas"
   ]
  },
  {
   "cell_type": "code",
   "execution_count": null,
   "metadata": {},
   "outputs": [],
   "source": [
    "!pip install psycopg2 #install postgres driver"
   ]
  },
  {
   "cell_type": "code",
   "execution_count": null,
   "metadata": {},
   "outputs": [],
   "source": [
    "DB_HOST = '89.145.163.87'\n",
    "DB_PORT = 5432\n",
    "DB_USERNAME = 'group11'\n",
    "DB_PASSWORD = 'tsw2020'\n",
    "DB_NAME = 'tweets'"
   ]
  },
  {
   "cell_type": "code",
   "execution_count": null,
   "metadata": {},
   "outputs": [],
   "source": [
    "import json\n",
    "import psycopg2\n",
    "import pandas as pd\n",
    "\n",
    "# connect to DB\n",
    "conn = psycopg2.connect(host=DB_HOST, port=DB_PORT, database=DB_NAME, user=DB_USERNAME, password=DB_PASSWORD)\n",
    "cur = conn.cursor()\n",
    "\n",
    "sql_query = \"\"\"\n",
    "SELECT\n",
    "tweet_id,\n",
    "tweet_body->'entities' as entities,\n",
    "tweet_body->'in_reply_to_status_id' as in_reply_to_status_id,\n",
    "tweet_body->'in_reply_to_status_id_str' as in_reply_to_status_id_str,\n",
    "tweet_body->'in_reply_to_user_id' as in_reply_to_user_id,\n",
    "tweet_body->'in_reply_to_user_id_str' as in_reply_to_user_id_str,\n",
    "tweet_body->'in_reply_to_screen_name' as in_reply_to_screen_name,\n",
    "tweet_body->'retweeted_status' as retweeted_status\n",
    "FROM tweet;\n",
    "\"\"\"\n",
    "tweets_database = pd.read_sql_query(sql_query, conn)\n",
    "tweets_database.set_index('tweet_id')\n",
    "print(\"Dataframe shape: {}\".format(tweets_database.shape))\n",
    "print(\"Dataframe columns: {}\".format(tweets_database.columns))\n",
    "print(\"Row with index 1 in Dataframe: \\n\")\n",
    "print(tweets_database.loc[3])\n",
    "\n",
    "# Close the cursor and connection to so the server can allocate\n",
    "# bandwidth to other requests\n",
    "cur.close()\n",
    "conn.close()"
   ]
  },
  {
   "cell_type": "code",
   "execution_count": null,
   "metadata": {},
   "outputs": [],
   "source": [
    "# Create a dataframe to fill out with the query results later\n",
    "tweets_analysis = pd.DataFrame(columns = [\n",
    "    \"created_at\",\n",
    "    \"id\",\n",
    "    \"in_reply_to_screen_name\", \n",
    "    \"in_reply_to_status_id\", \n",
    "    \"in_reply_to_user_id\",\n",
    "    \"retweeted_id\", \n",
    "    \"retweeted_screen_name\", \n",
    "    \"user_mentions_screen_name\", \n",
    "    \"user_mentions_id\",\n",
    "    \"text\",\n",
    "    \"user_id\",\n",
    "    \"screen_name\",\n",
    "    \"followers_count\"\n",
    "])"
   ]
  },
  {
   "cell_type": "code",
   "execution_count": null,
   "metadata": {},
   "outputs": [],
   "source": [
    "# TODO: fill in tweets_analysis with data from tweets_database"
   ]
  }
 ],
 "metadata": {
  "kernelspec": {
   "display_name": "Python 3",
   "language": "python",
   "name": "python3"
  },
  "language_info": {
   "codemirror_mode": {
    "name": "ipython",
    "version": 3
   },
   "file_extension": ".py",
   "mimetype": "text/x-python",
   "name": "python",
   "nbconvert_exporter": "python",
   "pygments_lexer": "ipython3",
   "version": "3.5.3"
  }
 },
 "nbformat": 4,
 "nbformat_minor": 4
}
