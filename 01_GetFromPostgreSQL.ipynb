{
 "cells": [
  {
   "cell_type": "code",
   "execution_count": null,
   "metadata": {},
   "outputs": [],
   "source": [
    "!pip install pandas"
   ]
  },
  {
   "cell_type": "code",
   "execution_count": null,
   "metadata": {},
   "outputs": [],
   "source": [
    "!pip install psycopg2 #install postgres driver"
   ]
  },
  {
   "cell_type": "code",
   "execution_count": 1,
   "metadata": {},
   "outputs": [],
   "source": [
    "DB_HOST = '89.145.163.87'\n",
    "DB_PORT = 5432\n",
    "DB_USERNAME = 'group11'\n",
    "DB_PASSWORD = 'tsw2020'\n",
    "DB_NAME = 'tweets'"
   ]
  },
  {
   "cell_type": "code",
   "execution_count": 8,
   "metadata": {},
   "outputs": [
    {
     "name": "stdout",
     "output_type": "stream",
     "text": [
      "Dataframe shape: (5285, 16)\n",
      "--------------------\n",
      "--------------------\n",
      "<class 'pandas.core.frame.DataFrame'>\n",
      "RangeIndex: 5285 entries, 0 to 5284\n",
      "Data columns (total 16 columns):\n",
      "tweet_id                      5285 non-null object\n",
      "inserted                      5285 non-null datetime64[ns]\n",
      "created_at                    5285 non-null object\n",
      "user_id_str                   5285 non-null object\n",
      "user_screen_name              5285 non-null object\n",
      "followers_count               5285 non-null int64\n",
      "user_mention_screen_name      4036 non-null object\n",
      "user_mention_id_str           4036 non-null object\n",
      "in_reply_to_status_id         153 non-null float64\n",
      "in_reply_to_status_id_str     153 non-null object\n",
      "in_reply_to_user_id_str       163 non-null object\n",
      "in_reply_to_screen_name       163 non-null object\n",
      "retweeted_user_id_str         3816 non-null object\n",
      "retweeted_user_screen_name    3816 non-null object\n",
      "result_type                   5285 non-null object\n",
      "text                          5285 non-null object\n",
      "dtypes: datetime64[ns](1), float64(1), int64(1), object(13)\n",
      "memory usage: 660.8+ KB\n",
      "None\n"
     ]
    }
   ],
   "source": [
    "import psycopg2\n",
    "import pandas as pd\n",
    "\n",
    "# connect to DB\n",
    "conn = psycopg2.connect(host=DB_HOST, port=DB_PORT, database=DB_NAME, user=DB_USERNAME, password=DB_PASSWORD)\n",
    "cur = conn.cursor()\n",
    "\n",
    "sql_query = \"\"\"\n",
    "SELECT\n",
    "tweet_id,\n",
    "inserted,\n",
    "tweet_body->'created_at' as created_at,\n",
    "tweet_body->'user'->'id_str' as user_id_str,\n",
    "tweet_body->'user'->'screen_name' as user_screen_name,\n",
    "tweet_body->'user'->'followers_count' as followers_count,\n",
    "\n",
    "tweet_body->'entities'->'user_mentions'->0->>'screen_name' as user_mention_screen_name,\n",
    "tweet_body->'entities'->'user_mentions'->0->>'id' as user_mention_id_str,\n",
    "\n",
    "tweet_body->'in_reply_to_status_id' as in_reply_to_status_id,\n",
    "tweet_body->'in_reply_to_status_id_str' as in_reply_to_status_id_str,\n",
    "tweet_body->'in_reply_to_user_id_str' as in_reply_to_user_id_str,\n",
    "tweet_body->'in_reply_to_screen_name' as in_reply_to_screen_name,\n",
    "\n",
    "tweet_body->'retweeted_status'->'user'->>'id_str' as retweeted_user_id_str,\n",
    "tweet_body->'retweeted_status'->'user'->>'screen_name' as retweeted_user_screen_name,\n",
    "\n",
    "tweet_body->'metadata'->'result_type' as result_type,\n",
    "tweet_body->>'text' as text\n",
    "FROM tweet\n",
    ";\n",
    "\"\"\"\n",
    "tweets_database = pd.read_sql_query(sql_query, conn)\n",
    "tweets_database.set_index('tweet_id')\n",
    "\n",
    "print(\"Dataframe shape: {}\".format(tweets_database.shape))\n",
    "print(\"-\"*20)\n",
    "tweets_database.head(5)\n",
    "print(\"-\"*20)\n",
    "print(tweets_database.info(memory_usage=True))\n",
    "\n",
    "cur.close()\n",
    "conn.close()\n",
    "\n",
    "# write the serialized object to a file\n",
    "tweets_database.to_pickle(path='tweets_database.pickle')"
   ]
  },
  {
   "cell_type": "code",
   "execution_count": 43,
   "metadata": {},
   "outputs": [],
   "source": []
  },
  {
   "cell_type": "code",
   "execution_count": null,
   "metadata": {},
   "outputs": [],
   "source": []
  },
  {
   "cell_type": "code",
   "execution_count": null,
   "metadata": {},
   "outputs": [],
   "source": []
  },
  {
   "cell_type": "code",
   "execution_count": null,
   "metadata": {},
   "outputs": [],
   "source": []
  }
 ],
 "metadata": {
  "kernelspec": {
   "display_name": "Python 3",
   "language": "python",
   "name": "python3"
  },
  "language_info": {
   "codemirror_mode": {
    "name": "ipython",
    "version": 3
   },
   "file_extension": ".py",
   "mimetype": "text/x-python",
   "name": "python",
   "nbconvert_exporter": "python",
   "pygments_lexer": "ipython3",
   "version": "3.5.3"
  }
 },
 "nbformat": 4,
 "nbformat_minor": 4
}
