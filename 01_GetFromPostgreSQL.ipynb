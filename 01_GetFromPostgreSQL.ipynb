{
 "cells": [
  {
   "cell_type": "code",
   "execution_count": null,
   "metadata": {},
   "outputs": [],
   "source": [
    "!pip install pandas"
   ]
  },
  {
   "cell_type": "code",
   "execution_count": null,
   "metadata": {},
   "outputs": [],
   "source": [
    "!pip install psycopg2 #install postgres driver"
   ]
  },
  {
   "cell_type": "code",
   "execution_count": null,
   "metadata": {},
   "outputs": [],
   "source": [
    "DB_HOST = '89.145.163.87'\n",
    "DB_PORT = 5432\n",
    "DB_USERNAME = 'group11'\n",
    "DB_PASSWORD = 'tsw2020'\n",
    "DB_NAME = 'tweets'"
   ]
  },
  {
   "cell_type": "code",
   "execution_count": null,
   "metadata": {},
   "outputs": [],
   "source": [
    "import psycopg2\n",
    "import pandas as pd\n",
    "\n",
    "# connect to DB\n",
    "conn = psycopg2.connect(host=DB_HOST, port=DB_PORT, database=DB_NAME, user=DB_USERNAME, password=DB_PASSWORD)\n",
    "cur = conn.cursor()\n",
    "\n",
    "sql_query = \"\"\"\n",
    "SELECT\n",
    "tweet_id,\n",
    "inserted,\n",
    "tweet_body->'created_at' as created_at,\n",
    "tweet_body->'user'->'id_str' as user_id_str,\n",
    "tweet_body->'user'->'screen_name' as user_screen_name,\n",
    "tweet_body->'user'->'followers_count' as followers_count,\n",
    "\n",
    "tweet_body->'entities'->'user_mentions'->0->>'screen_name' as user_mention_screen_name,\n",
    "tweet_body->'entities'->'user_mentions'->0->>'id' as user_mention_id_str,\n",
    "\n",
    "tweet_body->'in_reply_to_status_id' as in_reply_to_status_id,\n",
    "tweet_body->'in_reply_to_status_id_str' as in_reply_to_status_id_str,\n",
    "tweet_body->'in_reply_to_user_id_str' as in_reply_to_user_id_str,\n",
    "tweet_body->'in_reply_to_screen_name' as in_reply_to_screen_name,\n",
    "\n",
    "tweet_body->'retweeted_status'->'user'->>'id_str' as retweeted_user_id_str,\n",
    "tweet_body->'retweeted_status'->'user'->>'screen_name' as retweeted_user_screen_name,\n",
    "\n",
    "tweet_body->'metadata'->'result_type' as result_type,\n",
    "tweet_body->>'text' as text\n",
    "FROM tweet\n",
    ";\n",
    "\"\"\"\n",
    "tweets_database = pd.read_sql_query(sql_query, conn)\n",
    "tweets_database.set_index('tweet_id')\n",
    "\n",
    "print(\"Dataframe shape: {}\".format(tweets_database.shape))\n",
    "print(\"-\"*20)\n",
    "tweets_database.head(5)\n",
    "print(\"-\"*20)\n",
    "print(tweets_database.info(memory_usage=True))\n",
    "\n",
    "cur.close()\n",
    "conn.close()\n",
    "\n",
    "# write the serialized object to a file\n",
    "tweets_database.to_pickle(path='tweets_database.pickle')"
   ]
  },
  {
   "cell_type": "code",
   "execution_count": null,
   "metadata": {},
   "outputs": [],
   "source": []
  },
  {
   "cell_type": "code",
   "execution_count": null,
   "metadata": {},
   "outputs": [],
   "source": []
  },
  {
   "cell_type": "code",
   "execution_count": null,
   "metadata": {},
   "outputs": [],
   "source": []
  },
  {
   "cell_type": "code",
   "execution_count": null,
   "metadata": {},
   "outputs": [],
   "source": []
  }
 ],
 "metadata": {
  "kernelspec": {
   "display_name": "Python 3",
   "language": "python",
   "name": "python3"
  },
  "language_info": {
   "codemirror_mode": {
    "name": "ipython",
    "version": 3
   },
   "file_extension": ".py",
   "mimetype": "text/x-python",
   "name": "python",
   "nbconvert_exporter": "python",
   "pygments_lexer": "ipython3",
   "version": "3.5.3"
  }
 },
 "nbformat": 4,
 "nbformat_minor": 4
}
