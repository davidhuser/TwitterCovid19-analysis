{
 "cells": [
  {
   "cell_type": "code",
   "execution_count": null,
   "metadata": {},
   "outputs": [],
   "source": [
    "!pip install pandas"
   ]
  },
  {
   "cell_type": "code",
   "execution_count": null,
   "metadata": {},
   "outputs": [],
   "source": [
    "!pip install psycopg2 #install postgres driver"
   ]
  },
  {
   "cell_type": "code",
   "execution_count": 4,
   "metadata": {},
   "outputs": [],
   "source": [
    "DB_HOST = '89.145.163.87'\n",
    "DB_PORT = 5432\n",
    "DB_USERNAME = 'group11'\n",
    "DB_PASSWORD = 'tsw2020'\n",
    "DB_NAME = 'tweets'"
   ]
  },
  {
   "cell_type": "code",
   "execution_count": 5,
   "metadata": {},
   "outputs": [],
   "source": [
    "regions = {\n",
    "    'italy': ['italy1', 'italy2'],\n",
    "    'germany': ['germany1', 'germany2', 'germany3']\n",
    "}"
   ]
  },
  {
   "cell_type": "code",
   "execution_count": 6,
   "metadata": {},
   "outputs": [],
   "source": [
    "def region_sql_query(region):\n",
    "    return \"\"\"\n",
    "SELECT\n",
    "tweet_id,\n",
    "inserted,\n",
    "\n",
    "location_query,\n",
    "location_id,\n",
    "\n",
    "tweet_body->'created_at' as created_at,\n",
    "tweet_body->'user'->'id_str' as user_id_str,\n",
    "tweet_body->'user'->'screen_name' as user_screen_name,\n",
    "tweet_body->'user'->'followers_count' as followers_count,\n",
    "\n",
    "tweet_body->'entities'->'user_mentions'->0->>'screen_name' as user_mention_screen_name,\n",
    "tweet_body->'entities'->'user_mentions'->0->>'id' as user_mention_id_str,\n",
    "\n",
    "tweet_body->'in_reply_to_status_id' as in_reply_to_status_id,\n",
    "tweet_body->'in_reply_to_status_id_str' as in_reply_to_status_id_str,\n",
    "tweet_body->'in_reply_to_user_id_str' as in_reply_to_user_id_str,\n",
    "tweet_body->'in_reply_to_screen_name' as in_reply_to_screen_name,\n",
    "\n",
    "tweet_body->'retweeted_status'->'user'->>'id_str' as retweeted_user_id_str,\n",
    "tweet_body->'retweeted_status'->'user'->>'screen_name' as retweeted_user_screen_name,\n",
    "\n",
    "tweet_body->'metadata'->'result_type' as result_type,\n",
    "tweet_body->>'text' as text\n",
    "FROM tweet\n",
    "WHERE location_id = '{}'\n",
    ";\n",
    "\"\"\".format(region)"
   ]
  },
  {
   "cell_type": "code",
   "execution_count": 16,
   "metadata": {},
   "outputs": [
    {
     "name": "stdout",
     "output_type": "stream",
     "text": [
      "['italy1', 'italy2']\n",
      "Dataframe shape: (139154, 18)\n",
      "<class 'pandas.core.frame.DataFrame'>\n",
      "Int64Index: 139154 entries, 0 to 16800\n",
      "Data columns (total 18 columns):\n",
      "tweet_id                      139154 non-null object\n",
      "inserted                      139154 non-null datetime64[ns]\n",
      "location_query                139154 non-null object\n",
      "location_id                   139154 non-null object\n",
      "created_at                    139154 non-null object\n",
      "user_id_str                   139154 non-null object\n",
      "user_screen_name              139154 non-null object\n",
      "followers_count               139154 non-null int64\n",
      "user_mention_screen_name      115070 non-null object\n",
      "user_mention_id_str           115070 non-null object\n",
      "in_reply_to_status_id         2824 non-null float64\n",
      "in_reply_to_status_id_str     2824 non-null object\n",
      "in_reply_to_user_id_str       3255 non-null object\n",
      "in_reply_to_screen_name       3255 non-null object\n",
      "retweeted_user_id_str         109540 non-null object\n",
      "retweeted_user_screen_name    109540 non-null object\n",
      "result_type                   139154 non-null object\n",
      "text                          139154 non-null object\n",
      "dtypes: datetime64[ns](1), float64(1), int64(1), object(15)\n",
      "memory usage: 20.2+ MB\n",
      "None\n",
      "['germany1', 'germany2', 'germany3']\n",
      "Dataframe shape: (38881, 18)\n",
      "<class 'pandas.core.frame.DataFrame'>\n",
      "Int64Index: 38881 entries, 0 to 6801\n",
      "Data columns (total 18 columns):\n",
      "tweet_id                      38881 non-null object\n",
      "inserted                      38881 non-null datetime64[ns]\n",
      "location_query                38881 non-null object\n",
      "location_id                   38881 non-null object\n",
      "created_at                    38881 non-null object\n",
      "user_id_str                   38881 non-null object\n",
      "user_screen_name              38881 non-null object\n",
      "followers_count               38881 non-null int64\n",
      "user_mention_screen_name      30124 non-null object\n",
      "user_mention_id_str           30124 non-null object\n",
      "in_reply_to_status_id         1219 non-null float64\n",
      "in_reply_to_status_id_str     1219 non-null object\n",
      "in_reply_to_user_id_str       1313 non-null object\n",
      "in_reply_to_screen_name       1313 non-null object\n",
      "retweeted_user_id_str         28278 non-null object\n",
      "retweeted_user_screen_name    28278 non-null object\n",
      "result_type                   38881 non-null object\n",
      "text                          38881 non-null object\n",
      "dtypes: datetime64[ns](1), float64(1), int64(1), object(15)\n",
      "memory usage: 5.6+ MB\n",
      "None\n"
     ]
    }
   ],
   "source": [
    "import psycopg2\n",
    "import pandas as pd\n",
    "\n",
    "def tweets_to_pickle(region):\n",
    "    # connect to DB\n",
    "    conn = psycopg2.connect(host=DB_HOST, port=DB_PORT, database=DB_NAME, user=DB_USERNAME, password=DB_PASSWORD)\n",
    "    cur = conn.cursor()\n",
    "    \n",
    "    circles = regions[region]\n",
    "    print(circles)\n",
    "    \n",
    "    df_container = list()\n",
    "    for r in circles:\n",
    "        sql_query = region_sql_query(r)\n",
    "        circle_tweets = pd.read_sql_query(sql_query, conn)\n",
    "        circle_tweets.set_index('tweet_id')\n",
    "        df_container.append(circle_tweets)\n",
    "\n",
    "    tweets_database = pd.concat(df_container)\n",
    "    print(\"Dataframe shape: {}\".format(tweets_database.shape))\n",
    "    print(tweets_database.info(memory_usage=True))\n",
    "    \n",
    "    cur.close()\n",
    "    conn.close()\n",
    "    \n",
    "    tweets_database.to_pickle(path='tweets_database_{}.pickle'.format(region))\n",
    "\n",
    "tweets_to_pickle('italy')\n",
    "tweets_to_pickle('germany')"
   ]
  },
  {
   "cell_type": "code",
   "execution_count": null,
   "metadata": {},
   "outputs": [],
   "source": []
  },
  {
   "cell_type": "code",
   "execution_count": null,
   "metadata": {},
   "outputs": [],
   "source": []
  },
  {
   "cell_type": "code",
   "execution_count": null,
   "metadata": {},
   "outputs": [],
   "source": []
  },
  {
   "cell_type": "code",
   "execution_count": null,
   "metadata": {},
   "outputs": [],
   "source": []
  }
 ],
 "metadata": {
  "kernelspec": {
   "display_name": "Python 3",
   "language": "python",
   "name": "python3"
  },
  "language_info": {
   "codemirror_mode": {
    "name": "ipython",
    "version": 3
   },
   "file_extension": ".py",
   "mimetype": "text/x-python",
   "name": "python",
   "nbconvert_exporter": "python",
   "pygments_lexer": "ipython3",
   "version": "3.5.3"
  }
 },
 "nbformat": 4,
 "nbformat_minor": 4
}
