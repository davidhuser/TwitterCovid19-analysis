{
 "cells": [
  {
   "cell_type": "code",
   "execution_count": null,
   "metadata": {},
   "outputs": [],
   "source": [
    "!pip install pandas"
   ]
  },
  {
   "cell_type": "code",
   "execution_count": null,
   "metadata": {},
   "outputs": [],
   "source": [
    "!pip install psycopg2 #install postgres driver"
   ]
  },
  {
   "cell_type": "code",
   "execution_count": 1,
   "metadata": {},
   "outputs": [],
   "source": [
    "DB_HOST = '89.145.163.87'\n",
    "DB_PORT = 5432\n",
    "DB_USERNAME = 'group11'\n",
    "DB_PASSWORD = 'tsw2020'\n",
    "DB_NAME = 'tweets'"
   ]
  },
  {
   "cell_type": "code",
   "execution_count": 2,
   "metadata": {},
   "outputs": [],
   "source": [
    "region1 = {\n",
    "  \"germany1\": {\n",
    "    \"geocode\": \"52.739184,10.627171,236.4km\",\n",
    "    \"language\": \"de\"\n",
    "  },\n",
    "  \"germany2\": {\n",
    "    \"geocode\": \"51.753988,12.457496,142.434km\",\n",
    "    \"language\": \"de\"\n",
    "  },\n",
    "  \"germany3\": {\n",
    "    \"geocode\": \"51.358081,7.207764,69.343km\",\n",
    "    \"language\": \"de\"\n",
    "  },\n",
    "  \"germany4\": {\n",
    "    \"geocode\": \"50.496732,8.736488,170.602km\",\n",
    "    \"language\": \"de\"\n",
    "  },\n",
    "  \"germany5\": {\n",
    "    \"geocode\": \"49.000985,10.452385,165.858km\",\n",
    "    \"language\": \"de\"\n",
    "  },\n",
    "  \"germany6\": {\n",
    "    \"geocode\": \"48.054800,8.147429,39.891km\",\n",
    "    \"language\": \"de\"\n",
    "  }\n",
    "}\n",
    "\n",
    "region2 = {\n",
    "  \"netherlands1\": {\n",
    "    \"geocode\": \"52.944864,4.316700,163km\",\n",
    "    \"language\": \"nl\"\n",
    "  },\n",
    "  \"netherlands2\": {\n",
    "    \"geocode\": \"52.314066,6.025588,49.7km\",\n",
    "    \"language\": \"nl\"\n",
    "  },\n",
    "  \"netherlands3\": {\n",
    "    \"geocode\": \"51.532413,3.796285,28.8km\",\n",
    "    \"language\": \"nl\"\n",
    "  },\n",
    "  \"netherlands4\": {\n",
    "    \"geocode\": \"51.557595,5.585039,32km\",\n",
    "    \"language\": \"nl\"\n",
    "  },\n",
    "  \"netherlands5\": {\n",
    "    \"geocode\": \"50.888106,5.843230,15km\",\n",
    "    \"language\": \"nl\"\n",
    "  }\n",
    "}"
   ]
  },
  {
   "cell_type": "code",
   "execution_count": 3,
   "metadata": {},
   "outputs": [],
   "source": [
    "def region_sql_query(region):\n",
    "    \"\"\"Get all NL tweets with Dutch language\"\"\"\n",
    "    return \"\"\"\n",
    "SELECT\n",
    "tweet_id,\n",
    "inserted,\n",
    "\n",
    "location_query,\n",
    "location_id,\n",
    "\n",
    "tweet_body->'created_at' as created_at,\n",
    "tweet_body->'user'->'id_str' as user_id_str,\n",
    "tweet_body->'user'->'screen_name' as user_screen_name,\n",
    "tweet_body->'user'->'followers_count' as followers_count,\n",
    "\n",
    "tweet_body->'entities'->'user_mentions'->0->>'screen_name' as user_mention_screen_name,\n",
    "tweet_body->'entities'->'user_mentions'->0->>'id' as user_mention_id_str,\n",
    "\n",
    "tweet_body->'in_reply_to_status_id' as in_reply_to_status_id,\n",
    "tweet_body->'in_reply_to_status_id_str' as in_reply_to_status_id_str,\n",
    "tweet_body->'in_reply_to_user_id_str' as in_reply_to_user_id_str,\n",
    "tweet_body->'in_reply_to_screen_name' as in_reply_to_screen_name,\n",
    "\n",
    "tweet_body->'retweeted_status'->'user'->>'id_str' as retweeted_user_id_str,\n",
    "tweet_body->'retweeted_status'->'user'->>'screen_name' as retweeted_user_screen_name,\n",
    "\n",
    "tweet_body->'metadata'->'result_type' as result_type,\n",
    "tweet_body->>'text' as text\n",
    "FROM tweet\n",
    "WHERE location_id = '{}'\n",
    "AND tweet_body->>'language' = 'nl'\n",
    ";\n",
    "\"\"\".format(region)"
   ]
  },
  {
   "cell_type": "code",
   "execution_count": 4,
   "metadata": {},
   "outputs": [
    {
     "name": "stdout",
     "output_type": "stream",
     "text": [
      "dict_keys(['netherlands5', 'netherlands4', 'netherlands3', 'netherlands1', 'netherlands2'])\n",
      "Dataframe shape: (72432, 18)\n",
      "<class 'pandas.core.frame.DataFrame'>\n",
      "Int64Index: 72432 entries, 0 to 14449\n",
      "Data columns (total 18 columns):\n",
      "tweet_id                      72432 non-null object\n",
      "inserted                      72432 non-null datetime64[ns]\n",
      "location_query                72432 non-null object\n",
      "location_id                   72432 non-null object\n",
      "created_at                    72432 non-null object\n",
      "user_id_str                   72432 non-null object\n",
      "user_screen_name              72432 non-null object\n",
      "followers_count               72432 non-null int64\n",
      "user_mention_screen_name      53959 non-null object\n",
      "user_mention_id_str           53959 non-null object\n",
      "in_reply_to_status_id         3981 non-null float64\n",
      "in_reply_to_status_id_str     3981 non-null object\n",
      "in_reply_to_user_id_str       4462 non-null object\n",
      "in_reply_to_screen_name       4462 non-null object\n",
      "retweeted_user_id_str         48029 non-null object\n",
      "retweeted_user_screen_name    48029 non-null object\n",
      "result_type                   72432 non-null object\n",
      "text                          72432 non-null object\n",
      "dtypes: datetime64[ns](1), float64(1), int64(1), object(15)\n",
      "memory usage: 10.5+ MB\n",
      "None\n"
     ]
    }
   ],
   "source": [
    "import psycopg2\n",
    "import pandas as pd\n",
    "\n",
    "def tweets_to_pickle(region, name):\n",
    "    # connect to DB\n",
    "    conn = psycopg2.connect(host=DB_HOST, port=DB_PORT, database=DB_NAME, user=DB_USERNAME, password=DB_PASSWORD)\n",
    "    cur = conn.cursor()\n",
    "    \n",
    "    circles = region.keys()\n",
    "    print(circles)\n",
    "    \n",
    "    df_container = list()\n",
    "    for r in circles:\n",
    "        sql_query = region_sql_query(r)\n",
    "        circle_tweets = pd.read_sql_query(sql_query, conn)\n",
    "        circle_tweets.set_index('tweet_id')\n",
    "        df_container.append(circle_tweets)\n",
    "\n",
    "    tweets_database = pd.concat(df_container)\n",
    "    print(\"Dataframe shape: {}\".format(tweets_database.shape))\n",
    "    print(tweets_database.info(memory_usage=True))\n",
    "    \n",
    "    cur.close()\n",
    "    conn.close()\n",
    "    \n",
    "    tweets_database.to_pickle(path='tweets_database_{}.pickle'.format(name))\n",
    "\n",
    "#tweets_to_pickle(region1, 'germany')\n",
    "tweets_to_pickle(region2, 'netherlands')"
   ]
  },
  {
   "cell_type": "code",
   "execution_count": null,
   "metadata": {},
   "outputs": [],
   "source": []
  },
  {
   "cell_type": "code",
   "execution_count": null,
   "metadata": {},
   "outputs": [],
   "source": []
  },
  {
   "cell_type": "code",
   "execution_count": null,
   "metadata": {},
   "outputs": [],
   "source": []
  },
  {
   "cell_type": "code",
   "execution_count": null,
   "metadata": {},
   "outputs": [],
   "source": []
  }
 ],
 "metadata": {
  "kernelspec": {
   "display_name": "Python 3",
   "language": "python",
   "name": "python3"
  },
  "language_info": {
   "codemirror_mode": {
    "name": "ipython",
    "version": 3
   },
   "file_extension": ".py",
   "mimetype": "text/x-python",
   "name": "python",
   "nbconvert_exporter": "python",
   "pygments_lexer": "ipython3",
   "version": "3.5.3"
  }
 },
 "nbformat": 4,
 "nbformat_minor": 4
}
