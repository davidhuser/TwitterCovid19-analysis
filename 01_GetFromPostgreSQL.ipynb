{
 "cells": [
  {
   "cell_type": "code",
   "execution_count": 7,
   "metadata": {},
   "outputs": [
    {
     "name": "stdout",
     "output_type": "stream",
     "text": [
      "Requirement already satisfied: pandas in c:\\users\\daan\\anaconda3\\lib\\site-packages\n",
      "Requirement already satisfied: pytz>=2011k in c:\\users\\daan\\anaconda3\\lib\\site-packages (from pandas)\n",
      "Requirement already satisfied: python-dateutil>=2.5.0 in c:\\users\\daan\\anaconda3\\lib\\site-packages (from pandas)\n",
      "Requirement already satisfied: numpy>=1.12.0 in c:\\users\\daan\\anaconda3\\lib\\site-packages (from pandas)\n",
      "Requirement already satisfied: six>=1.5 in c:\\users\\daan\\anaconda3\\lib\\site-packages (from python-dateutil>=2.5.0->pandas)\n"
     ]
    },
    {
     "name": "stderr",
     "output_type": "stream",
     "text": [
      "You are using pip version 9.0.1, however version 20.0.2 is available.\n",
      "You should consider upgrading via the 'python -m pip install --upgrade pip' command.\n"
     ]
    }
   ],
   "source": [
    "!pip install pandas"
   ]
  },
  {
   "cell_type": "code",
   "execution_count": 8,
   "metadata": {},
   "outputs": [
    {
     "name": "stderr",
     "output_type": "stream",
     "text": [
      "Invalid requirement: '#install'\n",
      "Traceback (most recent call last):\n",
      "  File \"C:\\Users\\daan\\Anaconda3\\lib\\site-packages\\pip\\_vendor\\packaging\\requirements.py\", line 90, in __init__\n",
      "    req = REQUIREMENT.parseString(requirement_string)\n",
      "  File \"C:\\Users\\daan\\Anaconda3\\lib\\site-packages\\pip\\_vendor\\pyparsing.py\", line 1632, in parseString\n",
      "    raise exc\n",
      "  File \"C:\\Users\\daan\\Anaconda3\\lib\\site-packages\\pip\\_vendor\\pyparsing.py\", line 1622, in parseString\n",
      "    loc, tokens = self._parse( instring, 0 )\n",
      "  File \"C:\\Users\\daan\\Anaconda3\\lib\\site-packages\\pip\\_vendor\\pyparsing.py\", line 1379, in _parseNoCache\n",
      "    loc,tokens = self.parseImpl( instring, preloc, doActions )\n",
      "  File \"C:\\Users\\daan\\Anaconda3\\lib\\site-packages\\pip\\_vendor\\pyparsing.py\", line 3395, in parseImpl\n",
      "    loc, exprtokens = e._parse( instring, loc, doActions )\n",
      "  File \"C:\\Users\\daan\\Anaconda3\\lib\\site-packages\\pip\\_vendor\\pyparsing.py\", line 1379, in _parseNoCache\n",
      "    loc,tokens = self.parseImpl( instring, preloc, doActions )\n",
      "  File \"C:\\Users\\daan\\Anaconda3\\lib\\site-packages\\pip\\_vendor\\pyparsing.py\", line 3717, in parseImpl\n",
      "    return self.expr._parse( instring, loc, doActions, callPreParse=False )\n",
      "  File \"C:\\Users\\daan\\Anaconda3\\lib\\site-packages\\pip\\_vendor\\pyparsing.py\", line 1379, in _parseNoCache\n",
      "    loc,tokens = self.parseImpl( instring, preloc, doActions )\n",
      "  File \"C:\\Users\\daan\\Anaconda3\\lib\\site-packages\\pip\\_vendor\\pyparsing.py\", line 3378, in parseImpl\n",
      "    loc, resultlist = self.exprs[0]._parse( instring, loc, doActions, callPreParse=False )\n",
      "  File \"C:\\Users\\daan\\Anaconda3\\lib\\site-packages\\pip\\_vendor\\pyparsing.py\", line 1383, in _parseNoCache\n",
      "    loc,tokens = self.parseImpl( instring, preloc, doActions )\n",
      "  File \"C:\\Users\\daan\\Anaconda3\\lib\\site-packages\\pip\\_vendor\\pyparsing.py\", line 2689, in parseImpl\n",
      "    raise ParseException(instring, loc, self.errmsg, self)\n",
      "pip._vendor.pyparsing.ParseException: Expected W:(abcd...) (at char 0), (line:1, col:1)\n",
      "\n",
      "During handling of the above exception, another exception occurred:\n",
      "\n",
      "Traceback (most recent call last):\n",
      "  File \"C:\\Users\\daan\\Anaconda3\\lib\\site-packages\\pip\\req\\req_install.py\", line 82, in __init__\n",
      "    req = Requirement(req)\n",
      "  File \"C:\\Users\\daan\\Anaconda3\\lib\\site-packages\\pip\\_vendor\\packaging\\requirements.py\", line 94, in __init__\n",
      "    requirement_string[e.loc:e.loc + 8]))\n",
      "pip._vendor.packaging.requirements.InvalidRequirement: Invalid requirement, parse error at \"'#install'\"\n",
      "\n",
      "You are using pip version 9.0.1, however version 20.0.2 is available.\n",
      "You should consider upgrading via the 'python -m pip install --upgrade pip' command.\n"
     ]
    }
   ],
   "source": [
    "!pip install psycopg2 #install postgres driver"
   ]
  },
  {
   "cell_type": "code",
   "execution_count": 9,
   "metadata": {},
   "outputs": [],
   "source": [
    "DB_HOST = '89.145.163.87'\n",
    "DB_PORT = 5432\n",
    "DB_USERNAME = 'group11'\n",
    "DB_PASSWORD = 'tsw2020'\n",
    "DB_NAME = 'tweets'"
   ]
  },
  {
   "cell_type": "code",
   "execution_count": 10,
   "metadata": {},
   "outputs": [],
   "source": [
    "regions = {\n",
    "    'italy': ['italy1', 'italy2'],\n",
    "    'germany': ['germany1', 'germany2', 'germany3']\n",
    "}"
   ]
  },
  {
   "cell_type": "code",
   "execution_count": 11,
   "metadata": {},
   "outputs": [],
   "source": [
    "def region_sql_query(region):\n",
    "    return \"\"\"\n",
    "SELECT\n",
    "tweet_id,\n",
    "inserted,\n",
    "\n",
    "location_query,\n",
    "location_id,\n",
    "\n",
    "tweet_body->'created_at' as created_at,\n",
    "tweet_body->'user'->'id_str' as user_id_str,\n",
    "tweet_body->'user'->'screen_name' as user_screen_name,\n",
    "tweet_body->'user'->'followers_count' as followers_count,\n",
    "\n",
    "tweet_body->'entities'->'user_mentions' as user_mentions,\n",
    "\n",
    "tweet_body->'in_reply_to_status_id' as in_reply_to_status_id,\n",
    "tweet_body->'in_reply_to_status_id_str' as in_reply_to_status_id_str,\n",
    "tweet_body->'in_reply_to_user_id_str' as in_reply_to_user_id_str,\n",
    "tweet_body->'in_reply_to_screen_name' as in_reply_to_screen_name,\n",
    "\n",
    "tweet_body->'retweeted_status'->'user'->>'id_str' as retweeted_user_id_str,\n",
    "tweet_body->'retweeted_status'->'user'->>'screen_name' as retweeted_user_screen_name,\n",
    "\n",
    "tweet_body->'metadata'->'result_type' as result_type,\n",
    "tweet_body->>'text' as text\n",
    "FROM tweet\n",
    "WHERE location_id = '{}'\n",
    ";\n",
    "\"\"\".format(region)"
   ]
  },
  {
   "cell_type": "code",
   "execution_count": 12,
   "metadata": {},
   "outputs": [
    {
     "name": "stdout",
     "output_type": "stream",
     "text": [
      "['italy1', 'italy2']\n",
      "Dataframe shape: (139154, 17)\n",
      "<class 'pandas.core.frame.DataFrame'>\n",
      "Int64Index: 139154 entries, 0 to 16800\n",
      "Data columns (total 17 columns):\n",
      "tweet_id                      139154 non-null object\n",
      "inserted                      139154 non-null datetime64[ns]\n",
      "location_query                139154 non-null object\n",
      "location_id                   139154 non-null object\n",
      "created_at                    139154 non-null object\n",
      "user_id_str                   139154 non-null object\n",
      "user_screen_name              139154 non-null object\n",
      "followers_count               139154 non-null int64\n",
      "user_mentions                 139154 non-null object\n",
      "in_reply_to_status_id         2824 non-null float64\n",
      "in_reply_to_status_id_str     2824 non-null object\n",
      "in_reply_to_user_id_str       3255 non-null object\n",
      "in_reply_to_screen_name       3255 non-null object\n",
      "retweeted_user_id_str         109540 non-null object\n",
      "retweeted_user_screen_name    109540 non-null object\n",
      "result_type                   139154 non-null object\n",
      "text                          139154 non-null object\n",
      "dtypes: datetime64[ns](1), float64(1), int64(1), object(14)\n",
      "memory usage: 19.1+ MB\n",
      "None\n",
      "['germany1', 'germany2', 'germany3']\n",
      "Dataframe shape: (38881, 17)\n",
      "<class 'pandas.core.frame.DataFrame'>\n",
      "Int64Index: 38881 entries, 0 to 6801\n",
      "Data columns (total 17 columns):\n",
      "tweet_id                      38881 non-null object\n",
      "inserted                      38881 non-null datetime64[ns]\n",
      "location_query                38881 non-null object\n",
      "location_id                   38881 non-null object\n",
      "created_at                    38881 non-null object\n",
      "user_id_str                   38881 non-null object\n",
      "user_screen_name              38881 non-null object\n",
      "followers_count               38881 non-null int64\n",
      "user_mentions                 38881 non-null object\n",
      "in_reply_to_status_id         1219 non-null float64\n",
      "in_reply_to_status_id_str     1219 non-null object\n",
      "in_reply_to_user_id_str       1313 non-null object\n",
      "in_reply_to_screen_name       1313 non-null object\n",
      "retweeted_user_id_str         28278 non-null object\n",
      "retweeted_user_screen_name    28278 non-null object\n",
      "result_type                   38881 non-null object\n",
      "text                          38881 non-null object\n",
      "dtypes: datetime64[ns](1), float64(1), int64(1), object(14)\n",
      "memory usage: 5.3+ MB\n",
      "None\n"
     ]
    }
   ],
   "source": [
    "import psycopg2\n",
    "import pandas as pd\n",
    "\n",
    "def tweets_to_pickle(region):\n",
    "    # connect to DB\n",
    "    conn = psycopg2.connect(host=DB_HOST, port=DB_PORT, database=DB_NAME, user=DB_USERNAME, password=DB_PASSWORD)\n",
    "    cur = conn.cursor()\n",
    "    \n",
    "    circles = regions[region]\n",
    "    print(circles)\n",
    "    \n",
    "    df_container = list()\n",
    "    for r in circles:\n",
    "        sql_query = region_sql_query(r)\n",
    "        circle_tweets = pd.read_sql_query(sql_query, conn)\n",
    "        circle_tweets.set_index('tweet_id')\n",
    "        df_container.append(circle_tweets)\n",
    "\n",
    "    tweets_database = pd.concat(df_container)\n",
    "    print(\"Dataframe shape: {}\".format(tweets_database.shape))\n",
    "    print(tweets_database.info(memory_usage=True))\n",
    "    \n",
    "    cur.close()\n",
    "    conn.close()\n",
    "    \n",
    "    tweets_database.to_pickle(path='tweets_database_{}.pickle'.format(region))\n",
    "\n",
    "tweets_to_pickle('italy')\n",
    "tweets_to_pickle('germany')"
   ]
  },
  {
   "cell_type": "code",
   "execution_count": null,
   "metadata": {},
   "outputs": [],
   "source": []
  },
  {
   "cell_type": "code",
   "execution_count": null,
   "metadata": {},
   "outputs": [],
   "source": []
  },
  {
   "cell_type": "code",
   "execution_count": null,
   "metadata": {},
   "outputs": [],
   "source": []
  },
  {
   "cell_type": "code",
   "execution_count": null,
   "metadata": {},
   "outputs": [],
   "source": []
  }
 ],
 "metadata": {
  "kernelspec": {
   "display_name": "Python 3",
   "language": "python",
   "name": "python3"
  },
  "language_info": {
   "codemirror_mode": {
    "name": "ipython",
    "version": 3
   },
   "file_extension": ".py",
   "mimetype": "text/x-python",
   "name": "python",
   "nbconvert_exporter": "python",
   "pygments_lexer": "ipython3",
   "version": "3.6.4"
  }
 },
 "nbformat": 4,
 "nbformat_minor": 4
}
