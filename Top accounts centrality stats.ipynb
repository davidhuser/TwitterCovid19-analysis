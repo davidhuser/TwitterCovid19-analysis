{
 "cells": [
  {
   "cell_type": "code",
   "execution_count": null,
   "metadata": {},
   "outputs": [],
   "source": [
    "!pip install matplotlib"
   ]
  },
  {
   "cell_type": "code",
   "execution_count": null,
   "metadata": {},
   "outputs": [],
   "source": [
    "import networkx as nx\n",
    "import matplotlib.pyplot as plt\n",
    "%matplotlib inline"
   ]
  },
  {
   "cell_type": "code",
   "execution_count": null,
   "metadata": {},
   "outputs": [],
   "source": [
    "COUNTRY = 'netherlands'"
   ]
  },
  {
   "cell_type": "code",
   "execution_count": null,
   "metadata": {},
   "outputs": [],
   "source": [
    "import operator\n",
    "from numpy import median\n",
    "\n",
    "import pandas as pd\n",
    "import networkx as nx\n",
    "\n",
    "from utilities import load_graph_from_files\n",
    "\n",
    "def get_network_stats(region):\n",
    "    graph, _ = load_graph_from_files(region)\n",
    "    print(\"*** {} - Analyzing network of {} nodes and {} edges\".format(region, graph.order(), graph.size()))\n",
    "    \n",
    "    no_of_accounts = 8\n",
    "    \n",
    "    dc = nx.out_degree_centrality(graph)\n",
    "    dc_avg = sum(dc.values()) / len(dc.values())\n",
    "    dc_top = sorted(dc.items(), key=operator.itemgetter(1), reverse=True)\n",
    "    print(\"DC avg: {}\".format(dc_avg))\n",
    "    dc_med = median(list(dc.values()))\n",
    "    print(\"DC median: {}\".format(dc_med))\n",
    " \n",
    "    # https://networkx.github.io/documentation/stable/reference/algorithms/generated/networkx.algorithms.centrality.eigenvector_centrality.html#networkx.algorithms.centrality.eigenvector_centrality\n",
    "    ec = nx.eigenvector_centrality(graph.reverse())\n",
    "    ec_avg = sum(ec.values()) / len(ec.values())\n",
    "    ec_top = sorted(ec.items(), key=operator.itemgetter(1), reverse=True)\n",
    "    print(\"EC avg: {}\".format(ec_avg))\n",
    "    \n",
    "    k = 1500\n",
    "    print(\"k value: {}\".format(k))\n",
    "    bc = nx.betweenness_centrality(graph, k=k)\n",
    "    bc_avg = sum(bc.values()) / len(bc.values())\n",
    "    bc_top = sorted(bc.items(), key=operator.itemgetter(1), reverse=True)\n",
    "    print(\"BC avg: {}\".format(bc_avg))\n",
    "    \n",
    "    dc_df = pd.DataFrame(dc_top, columns=['id_str', 'out_degree']).set_index('id_str')\n",
    "    ec_df = pd.DataFrame(ec_top, columns=['id_str', 'eigenvector']).set_index('id_str')\n",
    "    bc_df = pd.DataFrame(bc_top, columns=['id_str', 'betweenness']).set_index('id_str')\n",
    "    \n",
    "    dc_df['degree_rank'] = dc_df['out_degree'].rank(ascending=False)\n",
    "    ec_df['eigen_rank'] = ec_df['eigenvector'].rank(ascending=False)\n",
    "    bc_df['betw_rank'] = bc_df['betweenness'].rank(ascending=False)\n",
    "\n",
    "    \n",
    "    accounts = set(\n",
    "        [acc[0] for acc in dc_top[:no_of_accounts]] +\\\n",
    "        [acc[0] for acc in ec_top[:no_of_accounts]] +\\\n",
    "        [acc[0] for acc in bc_top[:no_of_accounts]]\n",
    "    )\n",
    "    \n",
    "    #print(accounts)\n",
    "       \n",
    "    big = pd.concat([dc_df, ec_df, bc_df], axis=1, sort=False).reset_index().rename(columns={'index': 'id_str'})\n",
    "    only_top_accounts = big[big.id_str.isin(accounts)]\n",
    "    return only_top_accounts\n",
    "    "
   ]
  },
  {
   "cell_type": "code",
   "execution_count": null,
   "metadata": {},
   "outputs": [],
   "source": [
    "df = get_network_stats(COUNTRY)\n",
    "df.to_pickle('network_stats_{}'.format(COUNTRY))"
   ]
  },
  {
   "cell_type": "code",
   "execution_count": null,
   "metadata": {},
   "outputs": [],
   "source": [
    "# look up screen name\n",
    "\n",
    "from utilities import db_to_pandas\n",
    "\n",
    "def get_account(id_str):\n",
    "    sql_query=\"\"\"\n",
    "    SELECT DISTINCT tweet_body->'user'->>'screen_name' as screen_name\n",
    "    FROM tweet\n",
    "    WHERE tweet_body->'user'->>'id_str' = '{}';\n",
    "    \"\"\".format(id_str)\n",
    "    \n",
    "    q = db_to_pandas(sql_query)['screen_name']\n",
    "    return q\n",
    "\n",
    "df['screen_name'] = df['id_str'].apply(lambda x: get_account(x))"
   ]
  },
  {
   "cell_type": "code",
   "execution_count": null,
   "metadata": {},
   "outputs": [],
   "source": [
    "# look up latest follower count\n",
    "\n",
    "from utilities import db_to_pandas\n",
    "\n",
    "def get_max_followers_count(id_str):\n",
    "    sql_query=\"\"\"\n",
    "    SELECT tweet_body->'user'->>'followers_count' as followers_count\n",
    "    FROM tweet\n",
    "    WHERE tweet_body->'user'->>'id_str' = '{}';\n",
    "    \"\"\".format(id_str)\n",
    "    q = db_to_pandas(sql_query)['followers_count'].max()\n",
    "    return q\n",
    "\n",
    "df['followers'] = df['id_str'].apply(lambda x: get_max_followers_count(x))"
   ]
  },
  {
   "cell_type": "code",
   "execution_count": null,
   "metadata": {},
   "outputs": [],
   "source": [
    "df['followers'] = pd.to_numeric(df['followers'])\n",
    "df = df.sort_values(by='followers', ascending=False)\n",
    "\n",
    "df"
   ]
  },
  {
   "cell_type": "code",
   "execution_count": null,
   "metadata": {},
   "outputs": [],
   "source": [
    "# round\n",
    "df = df.round({\n",
    "    'out_degree': 4, \n",
    "    'eigenvector': 4, \n",
    "    'betweenness': 4\n",
    "})"
   ]
  },
  {
   "cell_type": "code",
   "execution_count": null,
   "metadata": {},
   "outputs": [],
   "source": [
    "descript = {\n",
    "\"MinPres\": \"Prime minister\",\n",
    "\"geertwilderspvv\": \"Politician\",\n",
    "\"thierrybaudet\": \"Politician\",\n",
    "\"rivm\": \"National Institute for Public Health\",\n",
    "\"MinVWS\": \"Ministry of health\",\n",
    "\"fvdemocratie\": \"Political party\",\n",
    "\"VogelvrijeHArts\": \"Meme account or person\",\n",
    "\"Hannesz1956\": \"Person\",\n",
    "\"lewinskylou2\": \"Person\",\n",
    "\"Sashaexposed\": \"Person\",\n",
    "\"bruno_bruins\": \"Minister for Medical Care\",\n",
    "\"FritsRosendaal\": \"Professor of Clinical Epidemiology\",\n",
    "\"MIsBack8\": \"Person\",\n",
    "\"Erna_art\": \"Person\",\n",
    "\"arzubarsk\": \"Person\",\n",
    "\"holadiejee\": \"Person\",\n",
    "\"MedicijnNL\": \"Medicine evaluation company\"\n",
    "}\n",
    "\n",
    "df.set_index(['screen_name', 'id_str'])\n",
    "df['description'] = df['screen_name'].map(descript)\n",
    "\n",
    "df"
   ]
  },
  {
   "cell_type": "code",
   "execution_count": null,
   "metadata": {},
   "outputs": [],
   "source": [
    "nice = df.drop('id_str', axis=1)\n",
    "nice.to_csv('account_stats_{}.csv'.format(COUNTRY), index=False)\n",
    "\n",
    "tex = nice.rename(columns={\n",
    "    'out_degree': 'out-degree',\n",
    "    'degree_rank': 'out-degree rank',\n",
    "    'eigen_rank': 'eigenvector rank',\n",
    "    'betw_rank': 'betweenness rank',\n",
    "    'screen_name': 'user'\n",
    "})\n",
    "tex = tex.reindex(columns=[\n",
    "    'followers', 'user', 'description', 'out-degree', 'out-degree rank', \n",
    "    'betweenness', 'betweenness rank', 'eigenvector', 'eigenvector rank'])\n",
    "tex.to_latex('outputs/accounts_table.tex', index=False)\n",
    "tex.head()"
   ]
  },
  {
   "cell_type": "code",
   "execution_count": null,
   "metadata": {},
   "outputs": [],
   "source": []
  },
  {
   "cell_type": "code",
   "execution_count": null,
   "metadata": {},
   "outputs": [],
   "source": []
  }
 ],
 "metadata": {
  "kernelspec": {
   "display_name": "Python 3",
   "language": "python",
   "name": "python3"
  },
  "language_info": {
   "codemirror_mode": {
    "name": "ipython",
    "version": 3
   },
   "file_extension": ".py",
   "mimetype": "text/x-python",
   "name": "python",
   "nbconvert_exporter": "python",
   "pygments_lexer": "ipython3",
   "version": "3.5.3"
  }
 },
 "nbformat": 4,
 "nbformat_minor": 4
}
