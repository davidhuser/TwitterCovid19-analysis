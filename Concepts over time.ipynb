{
 "cells": [
  {
   "cell_type": "code",
   "execution_count": null,
   "metadata": {},
   "outputs": [],
   "source": [
    "import pandas as pd\n",
    "import psycopg2"
   ]
  },
  {
   "cell_type": "code",
   "execution_count": null,
   "metadata": {},
   "outputs": [],
   "source": [
    "DB_HOST = '89.145.163.87'\n",
    "DB_PORT = 5432\n",
    "DB_USERNAME = 'group11'\n",
    "DB_PASSWORD = 'tsw2020'\n",
    "DB_NAME = 'tweets'"
   ]
  },
  {
   "cell_type": "code",
   "execution_count": null,
   "metadata": {},
   "outputs": [],
   "source": [
    "def db_to_pandas(query):\n",
    "    \"\"\" Query database to a Pandas DF\"\"\"\n",
    "    conn = psycopg2.connect(host=DB_HOST, port=DB_PORT, database=DB_NAME, user=DB_USERNAME, password=DB_PASSWORD)\n",
    "    cur = conn.cursor()\n",
    "    \n",
    "    df = pd.read_sql_query(query, conn)\n",
    "    print(df.info)\n",
    "    \n",
    "    cur.close()\n",
    "    conn.close()\n",
    "    \n",
    "    return df"
   ]
  },
  {
   "cell_type": "code",
   "execution_count": null,
   "metadata": {},
   "outputs": [],
   "source": [
    "sql_query = \"\"\"\n",
    "SELECT tweet_id, concepts, tweet_body->>'created_at' as created_at\n",
    "FROM tweet\n",
    "WHERE location_id LIKE 'germany%'\n",
    "AND concepts IS NOT NULL;\n",
    "\"\"\"\n",
    "\n",
    "df_from_db = db_to_pandas(sql_query)"
   ]
  },
  {
   "cell_type": "code",
   "execution_count": null,
   "metadata": {},
   "outputs": [],
   "source": [
    "# convert to timestamps to days\n",
    "df_from_db.date = pd.to_datetime(df_from_db['created_at'], format='%a %b %d %H:%M:%S +0000 %Y')\n",
    "df_from_db.date = df_from_db.date.dt.normalize()\n",
    "\n",
    "df_from_db.info"
   ]
  },
  {
   "cell_type": "code",
   "execution_count": null,
   "metadata": {},
   "outputs": [],
   "source": [
    "a = df_from_db.explode('concepts')\n",
    "concept_df = (a.assign(concepts = a['concepts'].str.get('surfaceForm'))\\\n",
    "              .groupby(['date','concepts'])['concepts'].count().reset_index(name='count'))\n",
    "print(concept_df)"
   ]
  },
  {
   "cell_type": "code",
   "execution_count": null,
   "metadata": {},
   "outputs": [],
   "source": [
    "top_concepts = concept_df.groupby(['concepts']).agg({'count':sum}).sort_values(['count'], ascending=False)\n",
    "top_concepts.info"
   ]
  },
  {
   "cell_type": "code",
   "execution_count": null,
   "metadata": {},
   "outputs": [],
   "source": [
    "for i, c in top_concepts.iterrows():\n",
    "    print(c)"
   ]
  },
  {
   "cell_type": "code",
   "execution_count": null,
   "metadata": {},
   "outputs": [],
   "source": [
    "stop = ('coronavirus', 'Coronavirus', 'Corona', 'CoronaVirus', 'do', 'amp', 'Deutschland', 'via', 'tun', 'primer', 'un', 'del')\n",
    "relevant_top = concept_df[~concept_df.concepts.isin(stop)]\n",
    "relevant_top.groupby(['concepts']).agg({'count':sum}).sort_values(['count'], ascending=False)"
   ]
  },
  {
   "cell_type": "code",
   "execution_count": null,
   "metadata": {},
   "outputs": [],
   "source": [
    "interesting = ['Italien', 'China', 'Jens Spahn', \n",
    "               'Desinfektionsmittel', 'Mundschutz',\n",
    "               'Robert-Koch-Institut', 'Iran', 'Italy'\n",
    "              ]\n",
    "\n",
    "interesting_df = concept_df[concept_df.concepts.isin(interesting)]\n",
    "interesting_df.info"
   ]
  },
  {
   "cell_type": "code",
   "execution_count": null,
   "metadata": {},
   "outputs": [],
   "source": [
    "sql_query = \"\"\"\n",
    "SELECT tweet_body->>'created_at' as created_at\n",
    "FROM tweet\n",
    "WHERE location_id LIKE 'germany%';\n",
    "\"\"\"\n",
    "\n",
    "all_tweets = db_to_pandas(sql_query)\n",
    "all_tweets['date'] = pd.to_datetime(all_tweets['created_at'], format='%a %b %d %H:%M:%S +0000 %Y')\n",
    "all_tweets['date'] = all_tweets.date.dt.normalize()\n",
    "\n",
    "total_tweets = all_tweets['date'].value_counts()\n",
    "total_tweets = total_tweets.to_frame().reset_index().rename(columns={'index': 'date', 'date': 'count'})\n",
    "total_tweets.info\n",
    "#total_tweets = total_tweets.reset_index()\n",
    "\n",
    "\n",
    "total_tweets"
   ]
  },
  {
   "cell_type": "code",
   "execution_count": null,
   "metadata": {},
   "outputs": [],
   "source": [
    "!pip install seaborn"
   ]
  },
  {
   "cell_type": "code",
   "execution_count": null,
   "metadata": {},
   "outputs": [],
   "source": [
    "import seaborn as sns\n",
    "import matplotlib.pyplot as plt\n",
    "\n",
    "from matplotlib import rcParams\n",
    "\n",
    "sns.set(style=\"dark\")\n",
    "plt.title(\"DBPedia concepts identified in tweets in Germany\")\n",
    "\n",
    "#sns.set_context(\"talk\")\n",
    "\n",
    "# set size of figure\n",
    "rcParams['figure.figsize'] = 15,7\n",
    "\n",
    "# first axis\n",
    "plot_df = interesting_df\n",
    "ax1 = sns.lineplot(data=plot_df, x='date', y='count', hue='concepts', linewidth=2)\n",
    "ax1.set(xlabel='Tweet created at', ylabel='Concept count')\n",
    "\n",
    "# second axis\n",
    "ax2 = plt.twinx()\n",
    "sns.lineplot(data=total_tweets, x='date', y='count', color=\"black\", ax=ax2, linewidth=2)\n",
    "ax2.grid(False)\n",
    "ax2.set(ylabel='Total tweets')\n",
    "ax2.lines[0].set_linestyle(\"--\")\n",
    "\n",
    "plt.legend(labels=['Total tweets'])\n",
    "\n",
    "plt.gcf().autofmt_xdate()"
   ]
  },
  {
   "cell_type": "code",
   "execution_count": null,
   "metadata": {},
   "outputs": [],
   "source": []
  }
 ],
 "metadata": {
  "kernelspec": {
   "display_name": "Python 3",
   "language": "python",
   "name": "python3"
  },
  "language_info": {
   "codemirror_mode": {
    "name": "ipython",
    "version": 3
   },
   "file_extension": ".py",
   "mimetype": "text/x-python",
   "name": "python",
   "nbconvert_exporter": "python",
   "pygments_lexer": "ipython3",
   "version": "3.5.3"
  }
 },
 "nbformat": 4,
 "nbformat_minor": 4
}
