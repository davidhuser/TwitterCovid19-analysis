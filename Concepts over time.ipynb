{
 "cells": [
  {
   "cell_type": "code",
   "execution_count": null,
   "metadata": {},
   "outputs": [],
   "source": [
    "import pandas as pd\n",
    "import psycopg2\n",
    "\n",
    "pd.options.display.max_rows = 500\n",
    "pd.options.display.max_columns = 30"
   ]
  },
  {
   "cell_type": "code",
   "execution_count": null,
   "metadata": {},
   "outputs": [],
   "source": [
    "COUNTRY = 'netherlands'"
   ]
  },
  {
   "cell_type": "code",
   "execution_count": null,
   "metadata": {},
   "outputs": [],
   "source": [
    "from utilities import db_to_pandas\n",
    "\n",
    "sql_query = \"\"\"\n",
    "SELECT tweet_id, concepts, tweet_body->>'created_at' as created_at\n",
    "FROM tweet\n",
    "WHERE location_id LIKE '{}%'\n",
    "AND concepts IS NOT NULL\n",
    "AND tweet_body->>'lang' = 'nl'\n",
    ";\n",
    "\"\"\".format(COUNTRY)\n",
    "\n",
    "df_from_db = db_to_pandas(sql_query)"
   ]
  },
  {
   "cell_type": "code",
   "execution_count": null,
   "metadata": {},
   "outputs": [],
   "source": [
    "# convert to timestamps to days\n",
    "df_from_db['date'] = pd.to_datetime(df_from_db['created_at'], format='%a %b %d %H:%M:%S +0000 %Y')\n",
    "df_from_db['date'] = df_from_db.date.dt.normalize()\n",
    "\n",
    "df_from_db.head(10)"
   ]
  },
  {
   "cell_type": "code",
   "execution_count": null,
   "metadata": {},
   "outputs": [],
   "source": [
    "# expand concepts to have its own series\n",
    "a = df_from_db.explode('concepts')\n",
    "concept_df = (a.assign(concepts = a['concepts'].str.get('surfaceForm'))\\\n",
    "              .groupby(['date','concepts'])['concepts'].count().reset_index(name='count'))\n",
    "concept_df"
   ]
  },
  {
   "cell_type": "code",
   "execution_count": null,
   "metadata": {},
   "outputs": [],
   "source": [
    "top_concepts = concept_df.groupby(['concepts']).agg({'count':sum}).sort_values(['count'], ascending=False)\n",
    "top_concepts"
   ]
  },
  {
   "cell_type": "code",
   "execution_count": null,
   "metadata": {},
   "outputs": [],
   "source": [
    "# find interesting concepts to take into account\n",
    "top_concepts.head(200)"
   ]
  },
  {
   "cell_type": "code",
   "execution_count": null,
   "metadata": {},
   "outputs": [],
   "source": [
    "stop = ('coronavirus', 'Coronavirus', 'Corona', 'CoronaVirus', 'do', 'amp', 'Deutschland', 'via', 'tun', 'primer', 'un', 'del')\n",
    "relevant_top = concept_df[~concept_df.concepts.isin(stop)]\n",
    "relevant_top.groupby(['concepts']).agg({'count':sum}).sort_values(['count'], ascending=False)"
   ]
  },
  {
   "cell_type": "code",
   "execution_count": null,
   "metadata": {},
   "outputs": [],
   "source": [
    "def merge_topics(df, topic):\n",
    "    cdf = df[df['concepts'].isin(topic['topics'])]\n",
    "    cdf.loc[:,'concepts'] = topic['name']\n",
    "    return cdf.groupby(['date']).agg({'count':sum}).reset_index()"
   ]
  },
  {
   "cell_type": "code",
   "execution_count": null,
   "metadata": {},
   "outputs": [],
   "source": [
    "if COUNTRY == 'germany':\n",
    "    protect = {'name': 'protection','topics': ['Desinfektionsmittel', 'Quarantäne', 'Mundschutz', 'Klopapier', \n",
    "                                               'Hände schütteln', 'Hygiene']}\n",
    "    countries = {'name': 'other countries', 'topics': ['EU', 'Italien', 'Mailand', 'Hongkong', 'Israel', 'Roma', 'Iran', 'Südkorea', 'China', 'china', \n",
    "                                                       'US', 'USA', 'Geneva', 'Österreich']}\n",
    "    sources = {'name': 'national institutions', 'topics': ['Virologe', 'Robert-Koch Institut', 'RKI', \n",
    "                                                         'Jens Spahn', 'Bundesregierung', 'Merkel', \n",
    "                                                         'Angela Merkel', 'Bundesgesundheitsminister']}\n",
    "elif COUNTRY == 'netherlands':\n",
    "    protect = {'name': 'protection','topics': ['quarantaine', 'volksgezondheid', 'vaccin', 'supermarkt']}\n",
    "    countries = {'name': 'other countries', 'topics': ['EU', 'Iran', 'China', 'china', 'Italiaanse', 'Italië', 'Korea', \n",
    "                                                       'Japan', 'Duitsland', 'Frankrijk', 'Israël', 'Lombardije', 'Zuid-Korea', 'België']}\n",
    "    sources = {'name': 'national institutions', 'topics': ['RIVM', 'GGD', 'rivm', 'vws', 'VWS', 'Mark Rutte', 'Viroloog']}\n",
    "else:\n",
    "    print(\"invalid COUNTRY\")\n",
    "\n",
    "\n",
    "df1 = merge_topics(concept_df, protect)\n",
    "df2 = merge_topics(concept_df, countries)\n",
    "df3 = merge_topics(concept_df, sources)\n",
    "df1['concepts'] = 'protection'\n",
    "df2['concepts'] = 'other countries'\n",
    "df3['concepts'] = 'national institutions'\n",
    "interesting_df = pd.concat([df1, df2, df3])\n",
    "interesting_df.head()"
   ]
  },
  {
   "cell_type": "code",
   "execution_count": null,
   "metadata": {},
   "outputs": [],
   "source": [
    "sql_query = \"\"\"\n",
    "SELECT tweet_body->>'created_at' as created_at\n",
    "FROM tweet\n",
    "WHERE location_id LIKE '{}%'\n",
    "AND tweet_body->>'lang' = 'nl'\n",
    ";\n",
    "\"\"\".format(COUNTRY)\n",
    "\n",
    "all_tweets = db_to_pandas(sql_query)\n",
    "all_tweets['date'] = pd.to_datetime(all_tweets['created_at'], format='%a %b %d %H:%M:%S +0000 %Y')\n",
    "all_tweets['date'] = all_tweets.date.dt.normalize()\n",
    "\n",
    "total_tweets = all_tweets['date'].value_counts()\n",
    "total_tweets = total_tweets.to_frame().reset_index().rename(columns={'index': 'date', 'date': 'count'})\n",
    "total_tweets.info\n",
    "#total_tweets = total_tweets.reset_index()\n",
    "\n",
    "\n",
    "total_tweets"
   ]
  },
  {
   "cell_type": "code",
   "execution_count": null,
   "metadata": {},
   "outputs": [],
   "source": [
    "!pip install seaborn"
   ]
  },
  {
   "cell_type": "code",
   "execution_count": null,
   "metadata": {
    "scrolled": true
   },
   "outputs": [],
   "source": [
    "import seaborn as sns\n",
    "import matplotlib.pyplot as plt\n",
    "\n",
    "from matplotlib import rcParams\n",
    "\n",
    "sns.set(style=\"dark\")\n",
    "palette = sns.color_palette(\"bright\", 3)\n",
    "plt.title(\"DBPedia concepts identified in tweets in {}\".format(COUNTRY.title()))\n",
    "\n",
    "#sns.set_context(\"poster\")\n",
    "plt.rcParams.update({'font.size': 30, 'figure.figsize': (8, 4) })\n",
    "\n",
    "                         \n",
    "# first axis\n",
    "plot_df = interesting_df\n",
    "\n",
    "print(plot_df.head(10))\n",
    "ax1 = sns.lineplot(data=plot_df, x='date', y='count', hue='concepts', linewidth=2, palette=palette)\n",
    "\n",
    "# second axis\n",
    "ax2 = plt.twinx()\n",
    "sns.lineplot(data=total_tweets, x='date', y='count', color=\"grey\", ax=ax2, linewidth=2)\n",
    "ax2.grid(False)\n",
    "\n",
    "ax1.set(ylabel='Number of concepts in tweet text', xlabel=None)\n",
    "\n",
    "ax2.set(ylabel='Total tweets')\n",
    "ax2.lines[0].set_linestyle(\"--\")\n",
    "\n",
    "plt.legend(labels=['Total tweets', 'x'])\n",
    "\n",
    "plt.gcf().autofmt_xdate()\n",
    "\n",
    "\n",
    "plt.savefig('concepts_over_time_{}.png'.format(COUNTRY))"
   ]
  },
  {
   "cell_type": "code",
   "execution_count": null,
   "metadata": {},
   "outputs": [],
   "source": []
  }
 ],
 "metadata": {
  "kernelspec": {
   "display_name": "Python 3",
   "language": "python",
   "name": "python3"
  },
  "language_info": {
   "codemirror_mode": {
    "name": "ipython",
    "version": 3
   },
   "file_extension": ".py",
   "mimetype": "text/x-python",
   "name": "python",
   "nbconvert_exporter": "python",
   "pygments_lexer": "ipython3",
   "version": "3.5.3"
  }
 },
 "nbformat": 4,
 "nbformat_minor": 4
}
