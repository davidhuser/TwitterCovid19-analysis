{
 "cells": [
  {
   "cell_type": "code",
   "execution_count": null,
   "metadata": {},
   "outputs": [],
   "source": [
    "!pip install matplotlib"
   ]
  },
  {
   "cell_type": "code",
   "execution_count": null,
   "metadata": {},
   "outputs": [],
   "source": [
    "import networkx as nx\n",
    "import matplotlib.pyplot as plt\n",
    "%matplotlib inline"
   ]
  },
  {
   "cell_type": "code",
   "execution_count": null,
   "metadata": {},
   "outputs": [],
   "source": [
    "import csv\n",
    "\n",
    "def load_from_file(region):\n",
    "    g = nx.DiGraph()\n",
    "    \n",
    "    with open('nodelist_{}.csv'.format(region), 'r') as f:\n",
    "        reader = csv.DictReader(f)\n",
    "        for row in reader:\n",
    "            g.add_nodes_from(row)\n",
    "    \n",
    "    edges = list()\n",
    "    with open('edgelist_{}.csv'.format(region), 'r') as f:\n",
    "        reader = csv.DictReader(f)\n",
    "        for row in reader:\n",
    "            edges.append((row['Source'], row['Target']))\n",
    "    g.add_edges_from(edges)\n",
    "    \n",
    "    return g"
   ]
  },
  {
   "cell_type": "code",
   "execution_count": null,
   "metadata": {},
   "outputs": [],
   "source": [
    "graph = load_from_file('netherlands')\n",
    "\n",
    "print(\"Analyzing network of {} nodes and {} edges\".format(graph.order(), graph.size()))\n",
    "\n",
    "print(\"Out-degree centrality distribution: \")\n",
    "odc = nx.out_degree_centrality(graph)\n",
    "\n",
    "plt.figure()\n",
    "plt.yscale('log')\n",
    "plt.ylabel('No. of nodes (log)')\n",
    "plt.xlabel('Out-degree centrality')\n",
    "plt.hist(odc.values(), bins=20)\n",
    "plt.show()"
   ]
  },
  {
   "cell_type": "code",
   "execution_count": null,
   "metadata": {},
   "outputs": [],
   "source": [
    "import operator\n",
    "\n",
    "key_actors = {k: round(v, 4) for k,v in odc.items() if v > 0.01}\n",
    "sorted_k = sorted(key_actors.items(), key=operator.itemgetter(1), reverse=True)\n",
    "\n",
    "print(sorted_k)"
   ]
  },
  {
   "cell_type": "code",
   "execution_count": null,
   "metadata": {},
   "outputs": [],
   "source": [
    "DB_HOST = '89.145.163.87'\n",
    "DB_PORT = 5432\n",
    "DB_USERNAME = 'group11'\n",
    "DB_PASSWORD = 'tsw2020'\n",
    "DB_NAME = 'tweets'"
   ]
  },
  {
   "cell_type": "code",
   "execution_count": null,
   "metadata": {},
   "outputs": [],
   "source": [
    "import psycopg2\n",
    "import pandas as pd\n",
    "\n",
    "def db_to_pandas(query):\n",
    "    \"\"\" Query database to a Pandas DF\"\"\"\n",
    "    conn = psycopg2.connect(host=DB_HOST, port=DB_PORT, database=DB_NAME, user=DB_USERNAME, password=DB_PASSWORD)\n",
    "    cur = conn.cursor()\n",
    "    \n",
    "    df = pd.read_sql_query(query, conn)\n",
    "    print(df.info)\n",
    "    \n",
    "    cur.close()\n",
    "    conn.close()\n",
    "    \n",
    "    return df"
   ]
  },
  {
   "cell_type": "code",
   "execution_count": null,
   "metadata": {},
   "outputs": [],
   "source": [
    "key_actor_tweets = pd.DataFrame()\n",
    "for actor in sorted_k:\n",
    "\n",
    "    query = \"SELECT tweet_body->'text' as text FROM tweet WHERE tweet_body->'user'->>'id_str' = '{}';\".format(actor[0])\n",
    "    df = db_to_pandas(query)\n",
    "    for row in df.iterrows():\n",
    "        key_actor_tweets['tweet_id'] = actor[0]\n",
    "        key_actor_tweets['similarity_score'] = actor[1]\n",
    "        key_actor_tweets['text'] = row\n",
    "\n",
    "    print(key_actor_tweets.shape)"
   ]
  },
  {
   "cell_type": "code",
   "execution_count": null,
   "metadata": {},
   "outputs": [],
   "source": []
  }
 ],
 "metadata": {
  "kernelspec": {
   "display_name": "Python 3",
   "language": "python",
   "name": "python3"
  },
  "language_info": {
   "codemirror_mode": {
    "name": "ipython",
    "version": 3
   },
   "file_extension": ".py",
   "mimetype": "text/x-python",
   "name": "python",
   "nbconvert_exporter": "python",
   "pygments_lexer": "ipython3",
   "version": "3.5.3"
  }
 },
 "nbformat": 4,
 "nbformat_minor": 4
}
