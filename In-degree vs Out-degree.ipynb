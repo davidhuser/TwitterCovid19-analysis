{
 "cells": [
  {
   "cell_type": "code",
   "execution_count": null,
   "metadata": {},
   "outputs": [],
   "source": [
    "import seaborn as sns\n",
    "import pandas as pd\n",
    "import networkx as nx\n",
    "\n",
    "from utilities import load_graph_from_files\n",
    "\n",
    "graph, _ = load_graph_from_files('netherlands')\n",
    "\n",
    "# run network stats on loaded graph\n",
    "indegree = nx.in_degree_centrality(graph)\n",
    "outdegree = nx.out_degree_centrality(graph)\n",
    "\n",
    "# put indegree in a dataframe and map outdegree to it\n",
    "df = pd.DataFrame(indegree.items(), columns=['id_str', 'indegree'])\n",
    "df.set_index(['id_str'])\n",
    "df['outdegree'] = df['id_str'].map(outdegree)"
   ]
  },
  {
   "cell_type": "code",
   "execution_count": null,
   "metadata": {},
   "outputs": [],
   "source": [
    "# look up follower count and merge with degree stats\n",
    "\n",
    "from utilities import db_to_pandas\n",
    "\n",
    "def get_all_followers_count():\n",
    "    sql_query=\"\"\"\n",
    "    SELECT \n",
    "    tweet_body->'user'->>'followers_count' as followers_count,\n",
    "    tweet_body->'user'->>'id_str' as id_str\n",
    "    FROM tweet\n",
    "    WHERE location_id like 'netherlands%'\n",
    "    AND tweet_body->>'lang' = 'nl'\n",
    "    ORDER BY id_str, followers_count ASC;\n",
    "    \"\"\"\n",
    "    q = db_to_pandas(sql_query)\n",
    "    return q\n",
    "\n",
    "df1 = df\n",
    "df1 = df1.astype({'id_str': str})\n",
    "df1.set_index(['id_str'])\n",
    "\n",
    "df2 = get_all_followers_count().astype({'id_str': str, 'followers_count': int})\n",
    "df2.groupby(['id_str'], sort=False)['followers_count'].max()\n",
    "df2.set_index(['id_str'])\n",
    "\n",
    "merged = pd.merge(df1, df2, on='id_str')\n",
    "# keep last followers_count\n",
    "merged = merged.drop_duplicates(subset=['id_str', 'indegree', 'outdegree'], keep='last')\n",
    "\n"
   ]
  },
  {
   "cell_type": "code",
   "execution_count": null,
   "metadata": {},
   "outputs": [],
   "source": [
    "import seaborn as sns\n",
    "import matplotlib.pyplot as plt\n",
    "\n",
    "sns.set()\n",
    "\n",
    "sns.set(style=\"white\")\n",
    "plt.title(\"Interactions initiated vs interactions received with number of followers\")\n",
    "palette = sns.cubehelix_palette(start=2, rot=0, dark=0, light=.5, as_cmap=True)\n",
    "\n",
    "ax = sns.scatterplot(data=merged, \n",
    "                     x=\"outdegree\", y=\"indegree\",\n",
    "                     hue='followers_count',\n",
    "                     size='followers_count',\n",
    "                     sizes=(30, 1000), \n",
    "                     #alpha=0.1,\n",
    "                     #legend='brief',\n",
    "                     palette=palette\n",
    "                  )\n",
    "ax.set(xlim=(-0.01, None))\n",
    "ax.set(ylim=(-0.0002, 0.005))\n",
    "ax.set(xlabel='Out-degree (interactions received)', ylabel=\"In-degree (interactions initiated)\")\n",
    "sns.despine(offset=20, trim=True);\n",
    "\n",
    "plt.savefig('outputs/outdegree_indegree_plot.png')"
   ]
  },
  {
   "cell_type": "code",
   "execution_count": null,
   "metadata": {},
   "outputs": [],
   "source": []
  },
  {
   "cell_type": "code",
   "execution_count": null,
   "metadata": {},
   "outputs": [],
   "source": []
  }
 ],
 "metadata": {
  "kernelspec": {
   "display_name": "Python 3",
   "language": "python",
   "name": "python3"
  },
  "language_info": {
   "codemirror_mode": {
    "name": "ipython",
    "version": 3
   },
   "file_extension": ".py",
   "mimetype": "text/x-python",
   "name": "python",
   "nbconvert_exporter": "python",
   "pygments_lexer": "ipython3",
   "version": "3.5.3"
  }
 },
 "nbformat": 4,
 "nbformat_minor": 4
}
