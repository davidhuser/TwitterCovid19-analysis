{
 "cells": [
  {
   "cell_type": "code",
   "execution_count": null,
   "metadata": {},
   "outputs": [],
   "source": [
    "!pip install pandas"
   ]
  },
  {
   "cell_type": "code",
   "execution_count": null,
   "metadata": {},
   "outputs": [],
   "source": [
    "import pandas as pd\n",
    "\n",
    "# load dataframe previously stored\n",
    "df = pd.read_pickle(path='./tweets_database.pickle')\n",
    "print(df.info)"
   ]
  },
  {
   "cell_type": "code",
   "execution_count": null,
   "metadata": {},
   "outputs": [],
   "source": [
    "# create a DF of nodes of the network\n",
    "columns = ['user_id', 'username']\n",
    "nodelist = pd.DataFrame(columns=columns)\n",
    "\n",
    "# insert all tweet.users\n",
    "nodelist['user_id'] = df['user_id_str']\n",
    "nodelist['username'] = df['user_screen_name']\n",
    "nodelist.set_index('user_id')\n",
    "\n",
    "def get_users(user_id, username):\n",
    "    \"\"\"Get users from mentions, replies, retweets\"\"\"\n",
    "    reduce = df.dropna(subset=[user_id, username])\n",
    "    insert_list = []\n",
    "    for index, row in reduce.iterrows():\n",
    "        user = {'user_id': row[user_id], 'username': row[username]}\n",
    "        insert_list.append(user)\n",
    "    return pd.DataFrame(insert_list, columns=columns)\n",
    "\n",
    "# insert all users of tweet.user_mentions\n",
    "nodelist = nodelist.append(get_users('user_mention_id_str', 'user_mention_screen_name'), sort=False)\n",
    "\n",
    "# insert all users of tweet.replies\n",
    "nodelist = nodelist.append(get_users('in_reply_to_user_id_str', 'in_reply_to_screen_name'), sort=False)\n",
    "\n",
    "# insert all users of tweet.retweets\n",
    "nodelist = nodelist.append(get_users('retweeted_user_id_str', 'retweeted_user_screen_name'), sort=False)\n",
    "\n",
    "# drop duplicates\n",
    "nodelist.drop_duplicates(subset=columns, inplace=True)\n",
    "print(nodelist.info)\n",
    "\n",
    "# rename columns for Gephi\n",
    "gephi_nodes = nodelist.rename(columns={'user_id': 'Id', 'username': 'Label'})\n",
    "gephi_nodes.to_csv('nodelist.csv', index=False)"
   ]
  },
  {
   "cell_type": "code",
   "execution_count": null,
   "metadata": {},
   "outputs": [],
   "source": [
    "# Create a DF of directed edges connecting the nodes of the network\n",
    "columns = ['source_id', 'target_id']\n",
    "edgelist = pd.DataFrame(columns=columns)\n",
    "\n",
    "def get_interactions(source_id, target_id):\n",
    "    \"\"\"Get interactions from mentions, replies, retweets\"\"\"\n",
    "    reduce = df.dropna(subset=[source_id, target_id])\n",
    "    insert_list = []\n",
    "    for index, row in reduce.iterrows():\n",
    "        interaction = {'source_id': row[source_id], 'target_id': row[target_id]}\n",
    "        insert_list.append(interaction)\n",
    "    return pd.DataFrame(insert_list, columns=columns)\n",
    "\n",
    "# insert all user mentions, source=original, target=user mentioning another user\n",
    "edgelist = edgelist.append(get_interactions(source_id='user_mention_id_str', target_id='user_id_str'))\n",
    "\n",
    "# insert all replies, source=original, target=user replying to another user\n",
    "edgelist = edgelist.append(get_interactions(source_id='in_reply_to_user_id_str', target_id='user_id_str'))\n",
    "\n",
    "# insert all retweets, source=original, target=user retweeting another user\n",
    "edgelist = edgelist.append(get_interactions(source_id='retweeted_user_id_str', target_id='user_id_str'))\n",
    "\n",
    "# drop duplicates\n",
    "edgelist.drop_duplicates(subset=['source_id', 'target_id'], inplace=True)\n",
    "\n",
    "#TODO: remove self-references\n",
    "\n",
    "print(edgelist.info)\n",
    "\n",
    "# rename columns for Gephi\n",
    "gephi_edges = edgelist.rename(columns={'source_id': 'Source', 'target_id': 'Target'})\n",
    "gephi_edges.to_csv('edgelist.csv', index=False)"
   ]
  },
  {
   "cell_type": "code",
   "execution_count": null,
   "metadata": {},
   "outputs": [],
   "source": [
    "# TODO: drop users that do not have any retweets, replies, or mentions to keep the graph lighter"
   ]
  }
 ],
 "metadata": {
  "celltoolbar": "Raw Cell Format",
  "kernelspec": {
   "display_name": "Python 3",
   "language": "python",
   "name": "python3"
  },
  "language_info": {
   "codemirror_mode": {
    "name": "ipython",
    "version": 3
   },
   "file_extension": ".py",
   "mimetype": "text/x-python",
   "name": "python",
   "nbconvert_exporter": "python",
   "pygments_lexer": "ipython3",
   "version": "3.5.3"
  }
 },
 "nbformat": 4,
 "nbformat_minor": 4
}
