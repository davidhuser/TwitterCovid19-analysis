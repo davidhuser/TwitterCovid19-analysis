{
 "cells": [
  {
   "cell_type": "code",
   "execution_count": 60,
   "metadata": {},
   "outputs": [
    {
     "name": "stdout",
     "output_type": "stream",
     "text": [
      "Requirement already satisfied: pandas in c:\\users\\daan\\anaconda3\\lib\\site-packages\n",
      "Requirement already satisfied: pytz>=2011k in c:\\users\\daan\\anaconda3\\lib\\site-packages (from pandas)\n",
      "Requirement already satisfied: python-dateutil>=2.5.0 in c:\\users\\daan\\anaconda3\\lib\\site-packages (from pandas)\n",
      "Requirement already satisfied: numpy>=1.12.0 in c:\\users\\daan\\anaconda3\\lib\\site-packages (from pandas)\n",
      "Requirement already satisfied: six>=1.5 in c:\\users\\daan\\anaconda3\\lib\\site-packages (from python-dateutil>=2.5.0->pandas)\n"
     ]
    },
    {
     "name": "stderr",
     "output_type": "stream",
     "text": [
      "You are using pip version 9.0.1, however version 20.0.2 is available.\n",
      "You should consider upgrading via the 'python -m pip install --upgrade pip' command.\n"
     ]
    }
   ],
   "source": [
    "!pip install pandas"
   ]
  },
  {
   "cell_type": "code",
   "execution_count": 61,
   "metadata": {},
   "outputs": [],
   "source": [
    "import pandas as pd\n",
    "\n",
    "def read_df(region):\n",
    "    return pd.read_pickle(path='./tweets_database_{}.pickle'.format(region))"
   ]
  },
  {
   "cell_type": "code",
   "execution_count": 62,
   "metadata": {},
   "outputs": [],
   "source": [
    "def create_nodes(df):\n",
    "\n",
    "    # create a DF of nodes of the network\n",
    "    columns = ['user_id', 'username']\n",
    "    nodelist = pd.DataFrame(columns=columns)\n",
    "\n",
    "    # insert all tweet.users\n",
    "    nodelist['user_id'] = df['user_id_str']\n",
    "    nodelist['username'] = df['user_screen_name']\n",
    "    nodelist.set_index('user_id')\n",
    "\n",
    "    def get_users(user_id, username):\n",
    "        \"\"\"Get users from mentions, replies, retweets\"\"\"\n",
    "        reduce = df.dropna(subset=[user_id, username])\n",
    "        insert_list = []\n",
    "        for index, row in reduce.iterrows():\n",
    "            user = {'user_id': row[user_id], 'username': row[username]}\n",
    "            insert_list.append(user)\n",
    "        return pd.DataFrame(insert_list, columns=columns)\n",
    "    \n",
    "    def get_users_mentions(user_mentions):\n",
    "        reduce = df.dropna(subset=[user_mentions])\n",
    "        insert_list = []\n",
    "        for index, row in reduce.iterrows():\n",
    "            for item in row[user_mentions]:\n",
    "                user = {'user_id': item['id'], 'username': item['screen_name']}\n",
    "                insert_list.append(user)\n",
    "        return pd.DataFrame(insert_list, columns=columns)\n",
    "    # insert all users of tweet.user_mentions\n",
    "    nodelist = nodelist.append(get_users_mentions('user_mentions'), sort=False)\n",
    "\n",
    "    # insert all users of tweet.replies\n",
    "    nodelist = nodelist.append(get_users('in_reply_to_user_id_str', 'in_reply_to_screen_name'), sort=False)\n",
    "\n",
    "    # insert all users of tweet.retweets\n",
    "    nodelist = nodelist.append(get_users('retweeted_user_id_str', 'retweeted_user_screen_name'), sort=False)\n",
    "\n",
    "    # drop duplicates\n",
    "    nodelist.drop_duplicates(subset=columns, inplace=True)\n",
    "    print(nodelist.info)\n",
    "    return nodelist"
   ]
  },
  {
   "cell_type": "code",
   "execution_count": 63,
   "metadata": {},
   "outputs": [],
   "source": [
    "def create_edges(df):\n",
    "\n",
    "    # Create a DF of directed edges connecting the nodes of the network\n",
    "    columns = ['source_id', 'target_id']\n",
    "    edgelist = pd.DataFrame(columns=columns)\n",
    "\n",
    "    def get_interactions(source_id, target_id):\n",
    "        \"\"\"Get interactions from mentions, replies, retweets\"\"\"\n",
    "        reduce = df.dropna(subset=[source_id, target_id])\n",
    "        insert_list = []\n",
    "        for index, row in reduce.iterrows():\n",
    "            interaction = {'source_id': row[source_id], 'target_id': row[target_id]}\n",
    "            insert_list.append(interaction)\n",
    "        return pd.DataFrame(insert_list, columns=columns)\n",
    "    \n",
    "    def get_users_mentions_interactions(target_id,user_mentions):\n",
    "        reduce = df.dropna(subset=[target_id, user_mentions])\n",
    "        insert_list = []\n",
    "        for index, row in reduce.iterrows():\n",
    "            for item in row[user_mentions]:\n",
    "                interaction = {'source_id': item['id'], 'target_id': row[target_id]}\n",
    "                insert_list.append(interaction)\n",
    "        return pd.DataFrame(insert_list, columns=columns)\n",
    "    # insert all user mentions, source=original, target=user mentioning another user\n",
    "    edgelist = edgelist.append(get_users_mentions_interactions(target_id='user_id_str', user_mentions='user_mentions'))\n",
    "\n",
    "    # insert all replies, source=original, target=user replying to another user\n",
    "    edgelist = edgelist.append(get_interactions(source_id='in_reply_to_user_id_str', target_id='user_id_str'))\n",
    "\n",
    "    # insert all retweets, source=original, target=user retweeting another user\n",
    "    edgelist = edgelist.append(get_interactions(source_id='retweeted_user_id_str', target_id='user_id_str'))\n",
    "\n",
    "    # drop duplicates\n",
    "    edgelist.drop_duplicates(subset=['source_id', 'target_id'], inplace=True)\n",
    "\n",
    "    # remove self-references (e.g. replies to your own account)\n",
    "    edgelist = edgelist[edgelist.source_id != edgelist.target_id]\n",
    "\n",
    "    print(edgelist.info)\n",
    "    return edgelist"
   ]
  },
  {
   "cell_type": "code",
   "execution_count": 64,
   "metadata": {},
   "outputs": [],
   "source": [
    "def drop_isolates(nodelist, edgelist):\n",
    "    # drop users that do not have any retweets, replies, or mentions to keep the graph lighter\n",
    "    user_edges = edgelist['source_id']\n",
    "    user_edges = user_edges.append(edgelist['target_id'])\n",
    "    print(user_edges.shape)\n",
    "    print(user_edges.drop_duplicates().shape)\n",
    "    nodelist_filtered = nodelist[nodelist.user_id.isin(list(user_edges))]\n",
    "    return nodelist_filtered\n",
    "    "
   ]
  },
  {
   "cell_type": "code",
   "execution_count": 65,
   "metadata": {},
   "outputs": [],
   "source": [
    "def to_gephi(region, nodelist, edgelist):\n",
    "    gephi_nodes = nodelist.rename(columns={'user_id': 'Id', 'username': 'Label'})\n",
    "    gephi_nodes.to_csv('nodelist_{}.csv'.format(region), index=False)\n",
    "    gephi_edges = edgelist.rename(columns={'source_id': 'Source', 'target_id': 'Target'})\n",
    "    gephi_edges.to_csv('edgelist_{}.csv'.format(region), index=False)"
   ]
  },
  {
   "cell_type": "code",
   "execution_count": 66,
   "metadata": {},
   "outputs": [],
   "source": [
    "def run_for_country(region):\n",
    "    print(\"Region: {}\".format(region))\n",
    "    df = read_df(region=region)\n",
    "    nodelist = create_nodes(df)\n",
    "    edgelist = create_edges(df)\n",
    "    \n",
    "    nodelist = drop_isolates(nodelist, edgelist)\n",
    "    \n",
    "    to_gephi(region, nodelist, edgelist)\n",
    "    "
   ]
  },
  {
   "cell_type": "code",
   "execution_count": 67,
   "metadata": {},
   "outputs": [
    {
     "name": "stdout",
     "output_type": "stream",
     "text": [
      "Region: italy\n",
      "<bound method DataFrame.info of                     user_id         username\n",
      "0                 342818725    maggioantonio\n",
      "1                 521546777          NoveseM\n",
      "2       1035166905424863233    Malvy89611841\n",
      "3       1096491048862449664  giovannaconfal4\n",
      "4                 304695298    WolfgangDanso\n",
      "5        885567061576908800          yxnggao\n",
      "6                 427424760         byluke69\n",
      "8                1251089251  salidaparallela\n",
      "9                2584588979     AuroreItalie\n",
      "10                 36039763   Brigante_Paolo\n",
      "11       785129133009494021     thewaterflea\n",
      "12      1077319297511374849   Simona53313767\n",
      "13      1126426788635324417    Romav86737841\n",
      "14                210749911        biche1780\n",
      "15                 71242539        WheresMAE\n",
      "16                336724931          ZanRoby\n",
      "17       912630324206690305        Damare284\n",
      "18                235918702    diodeglizilla\n",
      "19      1222548747130982400    Felix43153007\n",
      "20                209084129  FRANCESC0PAGANO\n",
      "21                 50395799  RussellVine1981\n",
      "22               1227144498          Alexct9\n",
      "23                266841916         TheRenry\n",
      "24               3038761187    AlonzoPeppino\n",
      "25                187313731      Benedetta94\n",
      "26               1088806153  misspassinella1\n",
      "27       706835606232555520  giacomogc270968\n",
      "28                418266983        net_maori\n",
      "29                521280231     demartinofra\n",
      "30               3047120716     DavideTheGr8\n",
      "...                     ...              ...\n",
      "3196               45174445   trash_italiano\n",
      "3201             1597876764     lariachetira\n",
      "3203    1123354424611569664        SusyEmaig\n",
      "3205    1093120887828766720      granlombard\n",
      "3206               72502915    RegionePuglia\n",
      "3209             3187093912          Terliz_\n",
      "3211               43496528     lucaviscardi\n",
      "3214    1071355153486413827  EmanueleSavass1\n",
      "3217             2198481850         MinolloO\n",
      "3222              976621394      TgrLeonardo\n",
      "3228              397203090     Reg_Campania\n",
      "3234             1564131146  NapoliAndNaples\n",
      "3235              978550051      5maggio2002\n",
      "3236             4782643341          expixeq\n",
      "3252              192899133    fam_cristiana\n",
      "3291    1050753707518910464     CelenzaFabio\n",
      "5527    1083065301087014913  SaraTor52827028\n",
      "5551               22127498         Donzelli\n",
      "5745     786908850360311809      Cluster_LLS\n",
      "24581              56527505  AlicelikeAudrey\n",
      "36135   1187392403780636672      whatafindit\n",
      "44343             633728917   alemeneghini89\n",
      "46977    925001209261559814      amazzanti79\n",
      "61689             962952061       MagnumOlly\n",
      "62297             349781314   swithadotbelow\n",
      "63355             131097645         FreeBond\n",
      "87741   1023692745708322816  Jhonata91753290\n",
      "100114           3329226503  latorem_veritas\n",
      "105551            563666612        Pollicjno\n",
      "106130  1190267355106021378   Sharon62890215\n",
      "\n",
      "[56632 rows x 2 columns]>\n",
      "<bound method DataFrame.info of                   source_id            target_id\n",
      "0                 274093178            342818725\n",
      "1       1112474438065377280            521546777\n",
      "2                 416476798  1035166905424863233\n",
      "3                 577979124  1096491048862449664\n",
      "4                 167704836            304695298\n",
      "5                 167704836   885567061576908800\n",
      "6       1100776937004457984            427424760\n",
      "8                 274093178           1251089251\n",
      "9       1100776937004457984           2584588979\n",
      "10                274093178             36039763\n",
      "11                234787615   785129133009494021\n",
      "12      1100776937004457984  1077319297511374849\n",
      "13                234787615  1126426788635324417\n",
      "14                881001960            210749911\n",
      "15                167704836             71242539\n",
      "16                157634351            336724931\n",
      "17                416476798   912630324206690305\n",
      "18      1126798795965116417            235918702\n",
      "19      1211487148492251138  1222548747130982400\n",
      "20                 52424550            209084129\n",
      "21                472358168             50395799\n",
      "22                234787615           1227144498\n",
      "23                416476798            266841916\n",
      "24                232908749           3038761187\n",
      "25                395218906           3038761187\n",
      "26       810971801014693888            187313731\n",
      "27                294518892           1088806153\n",
      "28      1100776937004457984   706835606232555520\n",
      "29      1100776937004457984            418266983\n",
      "30                 18935802            521280231\n",
      "...                     ...                  ...\n",
      "109501   994988557017247744  1032624812332646401\n",
      "109503            545276533  1194990070379483137\n",
      "109504  1189561936960249856  1082203804152549377\n",
      "109505            488623615           2754565029\n",
      "109506            493029817            153342663\n",
      "109508           3512230305            189110064\n",
      "109509   994988557017247744           2954466255\n",
      "109510  1189561936960249856           1225802472\n",
      "109511   994988557017247744   918849865928597505\n",
      "109513   994988557017247744           2829725229\n",
      "109514   994988557017247744             91565008\n",
      "109515   994988557017247744             72904071\n",
      "109516            143415269            276497372\n",
      "109518  1083447273458147328           1644648252\n",
      "109519   994988557017247744            268959893\n",
      "109520             85099571  1063539782888931328\n",
      "109523   994988557017247744            400933549\n",
      "109524   994988557017247744            479832510\n",
      "109525   994988557017247744           1435067262\n",
      "109526           2367582623           2941902833\n",
      "109527             19392607            418196803\n",
      "109528   994988557017247744           1130840690\n",
      "109529            309665491           2746375610\n",
      "109530   994988557017247744           2433958084\n",
      "109531            143415269            951096410\n",
      "109533           2367582623  1096126365215178755\n",
      "109534            197381599   698226027756126210\n",
      "109535            406981868            946972735\n",
      "109537   776430344841101312           1692341455\n",
      "109539            197381599   925806975400673280\n",
      "\n",
      "[161639 rows x 2 columns]>\n",
      "(323278,)\n",
      "(51989,)\n",
      "Region: germany\n",
      "<bound method DataFrame.info of                    user_id         username\n",
      "0       977745564875067392   louise123_dahl\n",
      "1      1027087573406167041          dori_ww\n",
      "2                543389122          cpcxxps\n",
      "3      1213476249944723456  PIxODnSW3uIVKgr\n",
      "4               2937975091     BreasleyAdam\n",
      "5      1131480231641059328   Pascal59777046\n",
      "6                 19119318       lisakarina\n",
      "7      1156593585455869952          bevy_de\n",
      "8               1047236436         AxelHohl\n",
      "9                 78835690       macmark_de\n",
      "11              2603392298    CarstenDierig\n",
      "12                 8720562             welt\n",
      "13              1215177290      dorisorchid\n",
      "14               707696955          sylkowa\n",
      "15     1233714887647539201    CoronaUberall\n",
      "16      820565707448582144      Virulensina\n",
      "17               304067927           Aadi_n\n",
      "18              2435355202        rafizimos\n",
      "19              3291882408    KullanartFang\n",
      "20              3033081447          komet81\n",
      "21     1170345103963152385          mphumbi\n",
      "22     1004842746765508608     LisannAuthor\n",
      "23              2461434528         Some_Otm\n",
      "24      991378769066758144       Mates60DN2\n",
      "25     1084213906728513536    RousseauxSven\n",
      "26      752518384814792704    Rundblick_NDS\n",
      "27              3292047101         IchWeres\n",
      "28      910564726370955266         imig_uel\n",
      "29      974678056802701313       JeonsYooni\n",
      "30      758723407106207744  Ludovico_Ariost\n",
      "...                    ...              ...\n",
      "1074   1222487065750921216         xLivluna\n",
      "1137    939982029420138496        JoJoesArt\n",
      "1175   1085604197238751232         Googoom1\n",
      "3383    989123767883493376    Frank66551437\n",
      "4206   1042022215057911808      DToxikologe\n",
      "4257    841614487413223424    EVirusBioinfC\n",
      "4309   1083628690393698305   Team_Luftwaffe\n",
      "4366    828630541356453891    LeifEickschen\n",
      "4382              88417998       gamesamade\n",
      "4817    864472109480894465  ITSERVICNETWORK\n",
      "5290   1219229764428468224    JRsChinaBlog1\n",
      "5951              99268600  PeterBoehringer\n",
      "9070              15078432       soareschen\n",
      "10769           1960267459          Zeitich\n",
      "10807   883429321410588672   Neuromancer_2k\n",
      "14934           2433240835   GIGA_Institute\n",
      "15470  1191978758607196165    meinwunschabo\n",
      "16391   859501089921658880        ABrummack\n",
      "16738           2765244885         BRVNOBVX\n",
      "17224             50638548    uniGoettingen\n",
      "18989   861504176039374848          CGH_TUM\n",
      "19799            294120449          Siemens\n",
      "19953            247900709        boxenlude\n",
      "20791  1053780627680567298    nutrifoodgeek\n",
      "23971   830070990218592256   WatchWaterGmbH\n",
      "24461            163423981       dw_scitech\n",
      "24478            227979480   AnleihenFinder\n",
      "25114            435141880     alvisefasolo\n",
      "25168             24699707     frank_thelen\n",
      "27794  1154023774314016768       rehansa_md\n",
      "\n",
      "[24316 rows x 2 columns]>\n"
     ]
    },
    {
     "name": "stdout",
     "output_type": "stream",
     "text": [
      "<bound method DataFrame.info of                  source_id            target_id\n",
      "0                 74440023   977745564875067392\n",
      "1                  8720562   977745564875067392\n",
      "2               3393740861  1027087573406167041\n",
      "3       939629034962653184            543389122\n",
      "4      1013349325555011584  1213476249944723456\n",
      "5      1233735020151496706           2937975091\n",
      "6      1233735020151496706             19119318\n",
      "7      1233735020151496706  1156593585455869952\n",
      "8       974523568703684609           1047236436\n",
      "10              2603392298              8720562\n",
      "11                17775446            707696955\n",
      "12     1223735721254694912  1233714887647539201\n",
      "13                30417430            304067927\n",
      "14               293021893            304067927\n",
      "15      888399491023466497           2435355202\n",
      "16      939629034962653184           3291882408\n",
      "17      859101343356772353           3033081447\n",
      "18                22751175           3033081447\n",
      "19                15865339  1170345103963152385\n",
      "20      710934301622329344  1004842746765508608\n",
      "21      939629034962653184           2461434528\n",
      "22              2885573171   991378769066758144\n",
      "23              2603392298           3292047101\n",
      "24              3519929533   974678056802701313\n",
      "25                22153676   758723407106207744\n",
      "26                78835690  1185590380638752768\n",
      "27                 5734902           2262514882\n",
      "28                 5734902           3236574520\n",
      "29     1158005065812238336            216649674\n",
      "30              2534273537  1233714887647539201\n",
      "...                    ...                  ...\n",
      "28227            728585472            189085294\n",
      "28228           1101354170            322755241\n",
      "28229           1101354170            477814338\n",
      "28230             18047862           1407313987\n",
      "28231             49435437  1088234470665318407\n",
      "28232           1101354170  1181907411550048256\n",
      "28233            456802508            956258804\n",
      "28234            456802508  1192100162530922497\n",
      "28235           2747054449             19035981\n",
      "28236             18047862             19035981\n",
      "28237             18047862           2920119651\n",
      "28239             18047862   913837824138457088\n",
      "28241             18047862            240351468\n",
      "28243             18047862           1470650814\n",
      "28244             18047862   809304662159589376\n",
      "28245            138828079   802917797298864128\n",
      "28246           1101354170           2436703803\n",
      "28249             18047862  1167621233900322816\n",
      "28250             18047862           2585020171\n",
      "28252             18047862  1184461366461128704\n",
      "28254             18047862  1172830144269914112\n",
      "28258             18047862            843592250\n",
      "28259             18047862            828818179\n",
      "28261             18047862  1194451265318600705\n",
      "28262             18047862  1195134318361956353\n",
      "28267             18047862  1178989281559212032\n",
      "28271             18047862  1181909608803131393\n",
      "28272             18047862            169468906\n",
      "28276           1101354170  1085460071717445633\n",
      "28277             18047862  1219832086158139392\n",
      "\n",
      "[53611 rows x 2 columns]>\n",
      "(107222,)\n",
      "(22466,)\n"
     ]
    }
   ],
   "source": [
    "if __name__ == '__main__':\n",
    "    \n",
    "    run_for_country(region='italy')\n",
    "    run_for_country(region='germany')"
   ]
  },
  {
   "cell_type": "code",
   "execution_count": null,
   "metadata": {},
   "outputs": [],
   "source": []
  },
  {
   "cell_type": "code",
   "execution_count": null,
   "metadata": {},
   "outputs": [],
   "source": []
  },
  {
   "cell_type": "code",
   "execution_count": 49,
   "metadata": {},
   "outputs": [],
   "source": [
    "df = read_df('italy')"
   ]
  },
  {
   "cell_type": "code",
   "execution_count": 50,
   "metadata": {},
   "outputs": [
    {
     "data": {
      "text/plain": [
       "(139154, 17)"
      ]
     },
     "execution_count": 50,
     "metadata": {},
     "output_type": "execute_result"
    }
   ],
   "source": [
    "df.shape"
   ]
  },
  {
   "cell_type": "code",
   "execution_count": 5,
   "metadata": {},
   "outputs": [
    {
     "data": {
      "text/plain": [
       "Index(['tweet_id', 'inserted', 'location_query', 'location_id', 'created_at',\n",
       "       'user_id_str', 'user_screen_name', 'followers_count',\n",
       "       'user_mention_screen_name', 'user_mention_id_str',\n",
       "       'in_reply_to_status_id', 'in_reply_to_status_id_str',\n",
       "       'in_reply_to_user_id_str', 'in_reply_to_screen_name',\n",
       "       'retweeted_user_id_str', 'retweeted_user_screen_name', 'result_type',\n",
       "       'text'],\n",
       "      dtype='object')"
      ]
     },
     "execution_count": 5,
     "metadata": {},
     "output_type": "execute_result"
    }
   ],
   "source": [
    "df.columns"
   ]
  },
  {
   "cell_type": "code",
   "execution_count": 12,
   "metadata": {},
   "outputs": [
    {
     "data": {
      "text/plain": [
       "[{'id': 274093178,\n",
       "  'id_str': '274093178',\n",
       "  'indices': [3, 18],\n",
       "  'name': 'Peter Gomez',\n",
       "  'screen_name': 'petergomezblog'}]"
      ]
     },
     "execution_count": 12,
     "metadata": {},
     "output_type": "execute_result"
    }
   ],
   "source": [
    "df.user_mention_screen_name.head(1)[0]\n"
   ]
  },
  {
   "cell_type": "code",
   "execution_count": 15,
   "metadata": {},
   "outputs": [],
   "source": [
    "i = [i for i in df.user_mention if len(i) >1]"
   ]
  },
  {
   "cell_type": "code",
   "execution_count": 18,
   "metadata": {},
   "outputs": [
    {
     "name": "stdout",
     "output_type": "stream",
     "text": [
      "[{'id': 232908749, 'name': 'Andrea F.', 'id_str': '232908749', 'indices': [3, 16], 'screen_name': 'AndFranchini'}, {'id': 395218906, 'name': 'Corriere della Sera', 'id_str': '395218906', 'indices': [95, 104], 'screen_name': 'Corriere'}]\n"
     ]
    }
   ],
   "source": [
    "print(i[0])"
   ]
  },
  {
   "cell_type": "code",
   "execution_count": 69,
   "metadata": {},
   "outputs": [
    {
     "name": "stdout",
     "output_type": "stream",
     "text": [
      "{'id': 232908749, 'name': 'Andrea F.', 'id_str': '232908749', 'indices': [3, 16], 'screen_name': 'AndFranchini'}\n",
      "{'id': 395218906, 'name': 'Corriere della Sera', 'id_str': '395218906', 'indices': [95, 104], 'screen_name': 'Corriere'}\n"
     ]
    }
   ],
   "source": []
  },
  {
   "cell_type": "code",
   "execution_count": null,
   "metadata": {},
   "outputs": [],
   "source": []
  },
  {
   "cell_type": "code",
   "execution_count": null,
   "metadata": {},
   "outputs": [],
   "source": []
  }
 ],
 "metadata": {
  "celltoolbar": "Raw Cell Format",
  "kernelspec": {
   "display_name": "Python 3",
   "language": "python",
   "name": "python3"
  },
  "language_info": {
   "codemirror_mode": {
    "name": "ipython",
    "version": 3
   },
   "file_extension": ".py",
   "mimetype": "text/x-python",
   "name": "python",
   "nbconvert_exporter": "python",
   "pygments_lexer": "ipython3",
   "version": "3.6.4"
  }
 },
 "nbformat": 4,
 "nbformat_minor": 4
}
