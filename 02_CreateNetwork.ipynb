{
 "cells": [
  {
   "cell_type": "code",
   "execution_count": null,
   "metadata": {},
   "outputs": [],
   "source": [
    "!pip install pandas"
   ]
  },
  {
   "cell_type": "code",
   "execution_count": 12,
   "metadata": {},
   "outputs": [],
   "source": [
    "import pandas as pd\n",
    "\n",
    "def read_df(region):\n",
    "    return pd.read_pickle(path='./tweets_database_{}.pickle'.format(region))"
   ]
  },
  {
   "cell_type": "code",
   "execution_count": 13,
   "metadata": {},
   "outputs": [],
   "source": [
    "def create_nodes(df):\n",
    "\n",
    "    # create a DF of nodes of the network\n",
    "    columns = ['user_id', 'username']\n",
    "    nodelist = pd.DataFrame(columns=columns)\n",
    "\n",
    "    # insert all tweet.users\n",
    "    nodelist['user_id'] = df['user_id_str']\n",
    "    nodelist['username'] = df['user_screen_name']\n",
    "    nodelist.set_index('user_id')\n",
    "\n",
    "    def get_users(user_id, username):\n",
    "        \"\"\"Get users from mentions, replies, retweets\"\"\"\n",
    "        reduce = df.dropna(subset=[user_id, username])\n",
    "        insert_list = []\n",
    "        for index, row in reduce.iterrows():\n",
    "            user = {'user_id': row[user_id], 'username': row[username]}\n",
    "            insert_list.append(user)\n",
    "        return pd.DataFrame(insert_list, columns=columns)\n",
    "\n",
    "    # insert all users of tweet.user_mentions\n",
    "    nodelist = nodelist.append(get_users('user_mention_id_str', 'user_mention_screen_name'), sort=False)\n",
    "\n",
    "    # insert all users of tweet.replies\n",
    "    nodelist = nodelist.append(get_users('in_reply_to_user_id_str', 'in_reply_to_screen_name'), sort=False)\n",
    "\n",
    "    # insert all users of tweet.retweets\n",
    "    nodelist = nodelist.append(get_users('retweeted_user_id_str', 'retweeted_user_screen_name'), sort=False)\n",
    "\n",
    "    # drop duplicates\n",
    "    nodelist.drop_duplicates(subset=columns, inplace=True)\n",
    "    print(nodelist.info)\n",
    "    return nodelist"
   ]
  },
  {
   "cell_type": "code",
   "execution_count": 14,
   "metadata": {},
   "outputs": [],
   "source": [
    "def create_edges(df):\n",
    "\n",
    "    # Create a DF of directed edges connecting the nodes of the network\n",
    "    columns = ['source_id', 'target_id']\n",
    "    edgelist = pd.DataFrame(columns=columns)\n",
    "\n",
    "    def get_interactions(source_id, target_id):\n",
    "        \"\"\"Get interactions from mentions, replies, retweets\"\"\"\n",
    "        reduce = df.dropna(subset=[source_id, target_id])\n",
    "        insert_list = []\n",
    "        for index, row in reduce.iterrows():\n",
    "            interaction = {'source_id': row[source_id], 'target_id': row[target_id]}\n",
    "            insert_list.append(interaction)\n",
    "        return pd.DataFrame(insert_list, columns=columns)\n",
    "\n",
    "    # insert all user mentions, source=original, target=user mentioning another user\n",
    "    edgelist = edgelist.append(get_interactions(source_id='user_mention_id_str', target_id='user_id_str'))\n",
    "\n",
    "    # insert all replies, source=original, target=user replying to another user\n",
    "    edgelist = edgelist.append(get_interactions(source_id='in_reply_to_user_id_str', target_id='user_id_str'))\n",
    "\n",
    "    # insert all retweets, source=original, target=user retweeting another user\n",
    "    edgelist = edgelist.append(get_interactions(source_id='retweeted_user_id_str', target_id='user_id_str'))\n",
    "\n",
    "    # drop duplicates\n",
    "    edgelist.drop_duplicates(subset=['source_id', 'target_id'], inplace=True)\n",
    "\n",
    "    # remove self-references (e.g. replies to your own account)\n",
    "    edgelist = edgelist[edgelist.source_id != edgelist.target_id]\n",
    "\n",
    "    print(edgelist.info)\n",
    "    return edgelist"
   ]
  },
  {
   "cell_type": "code",
   "execution_count": 15,
   "metadata": {},
   "outputs": [],
   "source": [
    "def drop_isolates(nodelist, edgelist):\n",
    "    # drop users that do not have any retweets, replies, or mentions to keep the graph lighter\n",
    "    user_edges = edgelist['source_id']\n",
    "    user_edges = user_edges.append(edgelist['target_id'])\n",
    "    nodelist_filtered = nodelist[nodelist.user_id.isin(user_edges)]\n",
    "    return nodelist\n",
    "    "
   ]
  },
  {
   "cell_type": "code",
   "execution_count": 16,
   "metadata": {},
   "outputs": [],
   "source": [
    "def to_gephi(region, nodelist, edgelist):\n",
    "    gephi_nodes = nodelist_filtered.rename(columns={'user_id': 'Id', 'username': 'Label'})\n",
    "    gephi_nodes.to_csv('nodelist_{}.csv'.format(region), index=False)\n",
    "    gephi_edges = edgelist.rename(columns={'source_id': 'Source', 'target_id': 'Target'})\n",
    "    gephi_edges.to_csv('edgelist_{}.csv'.format(region), index=False)"
   ]
  },
  {
   "cell_type": "code",
   "execution_count": 19,
   "metadata": {},
   "outputs": [],
   "source": [
    "def run_for_country(region):\n",
    "    print(\"Region: {}\".format(region))\n",
    "    df = read_df(region=region)\n",
    "    nodelist = create_nodes(df)\n",
    "    edgelist = create_edges(df)\n",
    "    \n",
    "    nodelist = drop_isolates(nodelist, edgelist)\n",
    "    \n",
    "    to_gephi(region, nodelist, edgelist)\n",
    "    "
   ]
  },
  {
   "cell_type": "code",
   "execution_count": 20,
   "metadata": {},
   "outputs": [
    {
     "name": "stdout",
     "output_type": "stream",
     "text": [
      "<bound method DataFrame.info of                     user_id         username\n",
      "0                 342818725    maggioantonio\n",
      "1                 521546777          NoveseM\n",
      "2       1035166905424863233    Malvy89611841\n",
      "3       1096491048862449664  giovannaconfal4\n",
      "4                 304695298    WolfgangDanso\n",
      "...                     ...              ...\n",
      "114834            199206990       UniSalerno\n",
      "114916            140043541        lescienze\n",
      "115065            192899133    fam_cristiana\n",
      "369              2943709047       burgestine\n",
      "801              2176147594  DagoWthAttitude\n",
      "\n",
      "[51338 rows x 2 columns]>\n",
      "<bound method DataFrame.info of                  source_id            target_id\n",
      "0                274093178            342818725\n",
      "1      1112474438065377280            521546777\n",
      "2                416476798  1035166905424863233\n",
      "3                577979124  1096491048862449664\n",
      "4                167704836            304695298\n",
      "...                    ...                  ...\n",
      "95206  1071767979271077888  1140688563346071552\n",
      "95262  1071767979271077888            304507855\n",
      "95282  1071767979271077888   820761573262290944\n",
      "95424  1071767979271077888            112286587\n",
      "97145  1071767979271077888           3033217867\n",
      "\n",
      "[75376 rows x 2 columns]>\n",
      "<bound method DataFrame.info of                    user_id         username\n",
      "0       977745564875067392   louise123_dahl\n",
      "1      1027087573406167041          dori_ww\n",
      "2                543389122          cpcxxps\n",
      "3      1213476249944723456  PIxODnSW3uIVKgr\n",
      "4               2937975091     BreasleyAdam\n",
      "...                    ...              ...\n",
      "29646   884117600229371904   RJ_from_Sallad\n",
      "29775             16404141   vivekagnihotri\n",
      "29829             32861321              RFI\n",
      "29985  1205577849245073408  iamdharmarajan2\n",
      "29989             32858804  ResoluteSupport\n",
      "\n",
      "[21671 rows x 2 columns]>\n",
      "<bound method DataFrame.info of                  source_id            target_id\n",
      "0                 74440023   977745564875067392\n",
      "1               3393740861  1027087573406167041\n",
      "2       939629034962653184            543389122\n",
      "3      1013349325555011584  1213476249944723456\n",
      "4      1233735020151496706           2937975091\n",
      "...                    ...                  ...\n",
      "30117             18047862  1181909608803131393\n",
      "30118             18047862            169468906\n",
      "30122           1101354170  1085460071717445633\n",
      "30123             18047862  1219832086158139392\n",
      "17039  1197506738053931009   757327977562636289\n",
      "\n",
      "[25198 rows x 2 columns]>\n"
     ]
    }
   ],
   "source": [
    "if __name__ == '__main__':\n",
    "    \n",
    "    run_for_country(region='italy')\n",
    "    run_for_country(region='germany')"
   ]
  },
  {
   "cell_type": "code",
   "execution_count": null,
   "metadata": {},
   "outputs": [],
   "source": []
  }
 ],
 "metadata": {
  "celltoolbar": "Raw Cell Format",
  "kernelspec": {
   "display_name": "Python 3",
   "language": "python",
   "name": "python3"
  },
  "language_info": {
   "codemirror_mode": {
    "name": "ipython",
    "version": 3
   },
   "file_extension": ".py",
   "mimetype": "text/x-python",
   "name": "python",
   "nbconvert_exporter": "python",
   "pygments_lexer": "ipython3",
   "version": "3.5.3"
  }
 },
 "nbformat": 4,
 "nbformat_minor": 4
}
