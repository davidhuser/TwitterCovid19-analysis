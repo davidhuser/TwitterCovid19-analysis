{
 "cells": [
  {
   "cell_type": "code",
   "execution_count": 1,
   "metadata": {},
   "outputs": [
    {
     "name": "stdout",
     "output_type": "stream",
     "text": [
      "Requirement already satisfied: pandas in ./.venv/lib/python3.5/site-packages\n",
      "Requirement already satisfied: numpy>=1.13.3 in ./.venv/lib/python3.5/site-packages (from pandas)\n",
      "Requirement already satisfied: pytz>=2017.2 in ./.venv/lib/python3.5/site-packages (from pandas)\n",
      "Requirement already satisfied: python-dateutil>=2.6.1 in ./.venv/lib/python3.5/site-packages (from pandas)\n",
      "Requirement already satisfied: six>=1.5 in ./.venv/lib/python3.5/site-packages (from python-dateutil>=2.6.1->pandas)\n"
     ]
    }
   ],
   "source": [
    "!pip install pandas"
   ]
  },
  {
   "cell_type": "code",
   "execution_count": 60,
   "metadata": {},
   "outputs": [
    {
     "name": "stdout",
     "output_type": "stream",
     "text": [
      "<bound method DataFrame.info of                  tweet_id                   inserted  \\\n",
      "0     1230448891302227970 2020-02-28 15:53:59.572462   \n",
      "1     1230454630376755200 2020-02-28 15:53:59.579021   \n",
      "2     1230448421565276160 2020-02-28 15:53:59.583328   \n",
      "3     1230570732373135361 2020-02-28 15:53:59.587158   \n",
      "4     1230568247503859714 2020-02-28 15:53:59.591639   \n",
      "...                   ...                        ...   \n",
      "5280  1231761401359634432 2020-02-28 15:54:22.805641   \n",
      "5281  1231796141781422082 2020-02-28 15:54:22.810084   \n",
      "5282  1231801929300402176 2020-02-28 15:54:22.814195   \n",
      "5283  1231803436087357440 2020-02-28 15:54:22.818355   \n",
      "5284  1231801519818858497 2020-02-28 15:54:22.822186   \n",
      "\n",
      "                          created_at          user_id_str user_screen_name  \\\n",
      "0     Thu Feb 20 11:07:30 +0000 2020            197351613   LOGISTIK_HEUTE   \n",
      "1     Thu Feb 20 11:30:19 +0000 2020             14674814     boerseonline   \n",
      "2     Thu Feb 20 11:05:38 +0000 2020            357072283       mride80336   \n",
      "3     Thu Feb 20 19:11:40 +0000 2020  1216408198552281088     Findings2020   \n",
      "4     Thu Feb 20 19:01:47 +0000 2020   951353809955061760        2the_hill   \n",
      "...                              ...                  ...              ...   \n",
      "5280  Mon Feb 24 02:02:57 +0000 2020            139712936     karstenpater   \n",
      "5281  Mon Feb 24 04:21:00 +0000 2020           3044542377      Wulf_Bloody   \n",
      "5282  Mon Feb 24 04:44:00 +0000 2020            122084857         mschwinn   \n",
      "5283  Mon Feb 24 04:49:59 +0000 2020   977959859068002304        QQuencher   \n",
      "5284  Mon Feb 24 04:42:22 +0000 2020            122084857         mschwinn   \n",
      "\n",
      "      followers_count user_mention_screen_name user_mention_id_str  \\\n",
      "0                6831                     None                None   \n",
      "1               13737                     None                None   \n",
      "2                  63                     None                None   \n",
      "3                 110          PrettyAwesomeDa          3367084329   \n",
      "4                3936          LuckyLu32431232  995604886409695233   \n",
      "...               ...                      ...                 ...   \n",
      "5280               88                     BR24            90524645   \n",
      "5281              846                     BR24            90524645   \n",
      "5282              613                     None                None   \n",
      "5283              931                     None                None   \n",
      "5284              613                     None                None   \n",
      "\n",
      "      in_reply_to_status_id in_reply_to_status_id_str in_reply_to_user_id_str  \\\n",
      "0                       NaN                      None                    None   \n",
      "1                       NaN                      None                    None   \n",
      "2                       NaN                      None                    None   \n",
      "3                       NaN                      None                    None   \n",
      "4                       NaN                      None                    None   \n",
      "...                     ...                       ...                     ...   \n",
      "5280                    NaN                      None                    None   \n",
      "5281                    NaN                      None                    None   \n",
      "5282                    NaN                      None                    None   \n",
      "5283                    NaN                      None                    None   \n",
      "5284                    NaN                      None                    None   \n",
      "\n",
      "     in_reply_to_screen_name retweeted_user_id_str retweeted_user_screen_name  \\\n",
      "0                       None                  None                       None   \n",
      "1                       None                  None                       None   \n",
      "2                       None                  None                       None   \n",
      "3                       None            3367084329            PrettyAwesomeDa   \n",
      "4                       None    995604886409695233            LuckyLu32431232   \n",
      "...                      ...                   ...                        ...   \n",
      "5280                    None              90524645                       BR24   \n",
      "5281                    None              90524645                       BR24   \n",
      "5282                    None                  None                       None   \n",
      "5283                    None                  None                       None   \n",
      "5284                    None                  None                       None   \n",
      "\n",
      "     result_type                                               text  \n",
      "0         recent  Die langfristigen Auswirkungen des Coronavirus...  \n",
      "1         recent  MTU Aero-Aktie: Macht das #Coronavirus der 202...  \n",
      "2         recent  Jetzt macht der  #Coronavirus nicht mal mehr v...  \n",
      "3         recent  RT @PrettyAwesomeDa: Do not click this video i...  \n",
      "4         recent  RT @LuckyLu32431232: #Coronavirus : « 60 % de ...  \n",
      "...          ...                                                ...  \n",
      "5280      recent  RT @BR24: Offenbar nach #Coronavirus-Verdachts...  \n",
      "5281      recent  RT @BR24: Offenbar nach #Coronavirus-Verdachts...  \n",
      "5282      recent  #Coronavirus in #Italien: #Österreich (ÖBB) st...  \n",
      "5283      recent  Stuttgart - Hamburg\\nEntfernung: 650 km\\n\\nStu...  \n",
      "5284      recent  Twitter trends: #HamburgWahl #NoAfD #NazisRaus...  \n",
      "\n",
      "[5285 rows x 16 columns]>\n"
     ]
    }
   ],
   "source": [
    "import pandas as pd\n",
    "\n",
    "df = pd.read_pickle(path='./tweets_database.pickle')\n",
    "print(df.info)"
   ]
  },
  {
   "cell_type": "code",
   "execution_count": 73,
   "metadata": {},
   "outputs": [
    {
     "name": "stdout",
     "output_type": "stream",
     "text": [
      "<bound method DataFrame.info of                   user_id        username\n",
      "0               197351613  LOGISTIK_HEUTE\n",
      "1                14674814    boerseonline\n",
      "2               357072283      mride80336\n",
      "3     1216408198552281088    Findings2020\n",
      "4      951353809955061760       2the_hill\n",
      "...                   ...             ...\n",
      "3853  1226140324512358400        DoschVan\n",
      "3903               816653      TechCrunch\n",
      "3910            106855826  MobiHealthNews\n",
      "3919             15647855         useucom\n",
      "3984            102452340      Everbridge\n",
      "\n",
      "[3729 rows x 2 columns]>\n"
     ]
    }
   ],
   "source": [
    "# create a DF of nodes of the network\n",
    "columns = ['user_id', 'username']\n",
    "nodelist = pd.DataFrame(columns=columns)\n",
    "\n",
    "# insert all tweet.users\n",
    "nodelist['user_id'] = df['user_id_str']\n",
    "nodelist['username'] = df['user_screen_name']\n",
    "nodelist.set_index('user_id')\n",
    "\n",
    "def get_users(user_id, username):\n",
    "    reduce = df.dropna(subset=[user_id, username])\n",
    "    insert_list = []\n",
    "    for index, row in reduce.iterrows():\n",
    "        user = {'user_id': row[user_id], 'username': row[username]}\n",
    "        insert_list.append(user)\n",
    "    return pd.DataFrame(insert_list, columns=columns)\n",
    "\n",
    "# insert all users of tweet.user_mentions\n",
    "nodelist = nodelist.append(get_users('user_mention_id_str', 'user_mention_screen_name'), sort=False)\n",
    "\n",
    "# insert all users of tweet.replies\n",
    "nodelist = nodelist.append(get_users('in_reply_to_user_id_str', 'in_reply_to_screen_name'), sort=False)\n",
    "\n",
    "# insert all users of tweet.retweets\n",
    "nodelist = nodelist.append(get_users('retweeted_user_id_str', 'retweeted_user_screen_name'), sort=False)\n",
    "\n",
    "# drop duplicates\n",
    "nodelist.drop_duplicates(subset=columns, inplace=True)\n",
    "print(nodelist.info)\n",
    "\n",
    "# rename columns for Gephi\n",
    "gephi_nodes = nodelist.rename(columns={'user_id': 'Id', 'username': 'Label'})\n",
    "gephi_nodes.to_csv('nodelist.csv', index=False)"
   ]
  },
  {
   "cell_type": "code",
   "execution_count": 74,
   "metadata": {},
   "outputs": [
    {
     "name": "stdout",
     "output_type": "stream",
     "text": [
      "<bound method DataFrame.info of                source_id            target_id\n",
      "0             3367084329  1216408198552281088\n",
      "1     995604886409695233   951353809955061760\n",
      "2     995604886409695233   912951056019181568\n",
      "3             3367084329  1079274338111709185\n",
      "4     995604886409695233           1548367159\n",
      "..                   ...                  ...\n",
      "109           1136810036           1136810036\n",
      "110  1029084199725223937  1029084199725223937\n",
      "120   845415526407028736   845415526407028736\n",
      "123               636603               636603\n",
      "152   852448997541326848   852448997541326848\n",
      "\n",
      "[3510 rows x 2 columns]>\n"
     ]
    }
   ],
   "source": [
    "# Create a DF of directed edges connecting the nodes of the network\n",
    "columns = ['source_id', 'target_id']\n",
    "edgelist = pd.DataFrame(columns=columns)\n",
    "\n",
    "def get_interactions(source_id, target_id):\n",
    "    reduce = df.dropna(subset=[source_id, target_id])\n",
    "    insert_list = []\n",
    "    for index, row in reduce.iterrows():\n",
    "        interaction = {'source_id': row[source_id], 'target_id': row[target_id]}\n",
    "        insert_list.append(interaction)\n",
    "    return pd.DataFrame(insert_list, columns=columns)\n",
    "\n",
    "# insert all user mentions, source=original, target=user mentioning another user\n",
    "edgelist = edgelist.append(get_interactions(source_id='user_mention_id_str', target_id='user_id_str'))\n",
    "\n",
    "# insert all replies, source=original, target=user replying to another user\n",
    "edgelist = edgelist.append(get_interactions(source_id='in_reply_to_user_id_str', target_id='user_id_str'))\n",
    "\n",
    "# insert all retweets, source=original, target=user retweeting another user\n",
    "edgelist = edgelist.append(get_interactions(source_id='retweeted_user_id_str', target_id='user_id_str'))\n",
    "\n",
    "\n",
    "edgelist.drop_duplicates(subset=['source_id', 'target_id'], inplace=True)\n",
    "\n",
    "#TODO: remove self-references\n",
    "\n",
    "print(edgelist.info)\n",
    "\n",
    "# rename columns for Gephi\n",
    "gephi_edges = edgelist.rename(columns={'source_id': 'Source', 'target_id': 'Target'})\n",
    "gephi_edges.to_csv('edgelist.csv', index=False)"
   ]
  },
  {
   "cell_type": "code",
   "execution_count": null,
   "metadata": {},
   "outputs": [],
   "source": []
  }
 ],
 "metadata": {
  "celltoolbar": "Raw Cell Format",
  "kernelspec": {
   "display_name": "Python 3",
   "language": "python",
   "name": "python3"
  },
  "language_info": {
   "codemirror_mode": {
    "name": "ipython",
    "version": 3
   },
   "file_extension": ".py",
   "mimetype": "text/x-python",
   "name": "python",
   "nbconvert_exporter": "python",
   "pygments_lexer": "ipython3",
   "version": "3.5.3"
  }
 },
 "nbformat": 4,
 "nbformat_minor": 4
}
