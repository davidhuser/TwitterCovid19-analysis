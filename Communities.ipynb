{
 "cells": [
  {
   "cell_type": "code",
   "execution_count": 1,
   "metadata": {},
   "outputs": [
    {
     "name": "stdout",
     "output_type": "stream",
     "text": [
      "Collecting python-louvain\n",
      "  Downloading https://files.pythonhosted.org/packages/96/b2/c74bb9023c8d4bf94f5049e3d705b3064c6f180a38d772055d20ba5a8d06/python-louvain-0.13.tar.gz\n",
      "Requirement already satisfied: networkx in ./.venv/lib/python3.5/site-packages (from python-louvain)\n",
      "Requirement already satisfied: decorator>=4.3.0 in ./.venv/lib/python3.5/site-packages (from networkx->python-louvain)\n",
      "Building wheels for collected packages: python-louvain\n",
      "  Running setup.py bdist_wheel for python-louvain ... \u001b[?25lerror\n",
      "  Complete output from command /home/david/Github/TwitterCovid19-analysis/.venv/bin/python3 -u -c \"import setuptools, tokenize;__file__='/tmp/pip-build-atwrb_ly/python-louvain/setup.py';f=getattr(tokenize, 'open', open)(__file__);code=f.read().replace('\\r\\n', '\\n');f.close();exec(compile(code, __file__, 'exec'))\" bdist_wheel -d /tmp/tmpk2p7ifu4pip-wheel- --python-tag cp35:\n",
      "  usage: -c [global_opts] cmd1 [cmd1_opts] [cmd2 [cmd2_opts] ...]\n",
      "     or: -c --help [cmd1 cmd2 ...]\n",
      "     or: -c --help-commands\n",
      "     or: -c cmd --help\n",
      "  \n",
      "  error: invalid command 'bdist_wheel'\n",
      "  \n",
      "  ----------------------------------------\n",
      "\u001b[31m  Failed building wheel for python-louvain\u001b[0m\n",
      "\u001b[?25h  Running setup.py clean for python-louvain\n",
      "Failed to build python-louvain\n",
      "Installing collected packages: python-louvain\n",
      "  Running setup.py install for python-louvain ... \u001b[?25ldone\n",
      "\u001b[?25hSuccessfully installed python-louvain-0.13\n"
     ]
    }
   ],
   "source": [
    "!pip install python-louvain"
   ]
  },
  {
   "cell_type": "code",
   "execution_count": 27,
   "metadata": {
    "pycharm": {
     "is_executing": false
    }
   },
   "outputs": [],
   "source": [
    "from heapq import nlargest\n",
    "\n",
    "import matplotlib.pyplot as plt\n",
    "import networkx as nx\n",
    "import numpy as np\n",
    "import seaborn as sns\n",
    "\n",
    "from utilities import load_graph_from_files, load_concept_counts\n",
    "%matplotlib inline"
   ]
  },
  {
   "cell_type": "code",
   "execution_count": 28,
   "metadata": {
    "pycharm": {
     "is_executing": false,
     "name": "#%%\n"
    }
   },
   "outputs": [],
   "source": [
    "# define your region\n",
    "REGION = 'netherlands'"
   ]
  },
  {
   "cell_type": "code",
   "execution_count": 29,
   "metadata": {
    "pycharm": {
     "is_executing": false,
     "name": "#%%\n"
    }
   },
   "outputs": [],
   "source": [
    "# load graph (and nodes, for relabeling)\n",
    "g, nodes_df = load_graph_from_files(region=REGION)"
   ]
  },
  {
   "cell_type": "code",
   "execution_count": 30,
   "metadata": {},
   "outputs": [],
   "source": [
    "import community\n",
    "\n",
    "def get_communities(g):\n",
    "    \"\"\"\n",
    "    Creates communities for a given graph\n",
    "\n",
    "    :param g: the graph to analyse communities in\n",
    "    :return: dict of nodes with corresponding community, list of communities with all their nodes\n",
    "    \"\"\"\n",
    "\n",
    "    # create dict of each node (key) with its community (value)\n",
    "    partitions = community.best_partition(g.to_undirected())\n",
    "\n",
    "    # dict of communities with empty lists\n",
    "    communities = {k: [] for k in partitions.values()}\n",
    "\n",
    "    # fill all nodes to the corresponding community\n",
    "    for key, value in partitions.items():\n",
    "        communities[value].append(key)\n",
    "\n",
    "    # return dict of nodes and dict of communities\n",
    "    return partitions, communities"
   ]
  },
  {
   "cell_type": "code",
   "execution_count": 32,
   "metadata": {
    "pycharm": {
     "is_executing": false,
     "name": "#%%\n"
    }
   },
   "outputs": [],
   "source": [
    "# load partitions and communities\n",
    "partitions, _communities = get_communities(g)\n",
    "\n",
    "# wrap for nicer usage\n",
    "communities =  {key: {'nodes' : value} for key, value in _communities.items()}"
   ]
  },
  {
   "cell_type": "code",
   "execution_count": 33,
   "metadata": {
    "pycharm": {
     "is_executing": false,
     "name": "#%%\n"
    }
   },
   "outputs": [
    {
     "name": "stdout",
     "output_type": "stream",
     "text": [
      "Amount of communities larger than the mean (6.414244566640482): 126\n"
     ]
    },
    {
     "data": {
      "text/plain": [
       "[(0, 3823.0212690078706)]"
      ]
     },
     "execution_count": 33,
     "metadata": {},
     "output_type": "execute_result"
    },
    {
     "data": {
      "image/png": "[encoded data removed]",
      "text/plain": [
       "<Figure size 432x288 with 1 Axes>"
      ]
     },
     "metadata": {
      "needs_background": "light"
     },
     "output_type": "display_data"
    }
   ],
   "source": [
    "# get sizes for every community\n",
    "all_lens = [len(c['nodes']) for _, c in communities.items()]\n",
    "\n",
    "# get communities larger than the mean\n",
    "lens_larger_than_mean = [x for x in all_lens if x > np.mean(all_lens)]\n",
    "print('Amount of communities larger than the mean ({}): {}'.format(np.mean(all_lens), len(lens_larger_than_mean)))\n",
    "\n",
    "# plot distribution\n",
    "sns.distplot(lens_larger_than_mean).set(xlim=0)"
   ]
  },
  {
   "cell_type": "code",
   "execution_count": 34,
   "metadata": {
    "pycharm": {
     "is_executing": false,
     "name": "#%%\n"
    }
   },
   "outputs": [],
   "source": [
    "# only includes communities with above average size\n",
    "top_communities = {}\n",
    "\n",
    "# for each community\n",
    "for key, community in communities.items():\n",
    "    # if its size is above average\n",
    "    if len(community['nodes']) > np.mean(all_lens):\n",
    "        top_communities[key] = community"
   ]
  },
  {
   "cell_type": "code",
   "execution_count": 35,
   "metadata": {
    "pycharm": {
     "is_executing": false,
     "name": "#%%\n"
    }
   },
   "outputs": [],
   "source": [
    "# for each community\n",
    "for key, community in top_communities.items():\n",
    "    \n",
    "    # create copy of graph\n",
    "    sub_g = nx.Graph(g)\n",
    "    \n",
    "    # remove all nodes that do not belong to community\n",
    "    sub_g.remove_nodes_from([node for node in g.nodes if node not in community['nodes']])\n",
    "    \n",
    "    # cache graph\n",
    "    community['graph'] = sub_g\n",
    "    \n",
    "    # order nodes by degree\n",
    "    degree_nodes = sorted(sub_g.degree, key=lambda x: x[1], reverse=True)\n",
    "    \n",
    "    # community named after node with highest degree\n",
    "    community['name'] = degree_nodes[0][0]"
   ]
  },
  {
   "cell_type": "code",
   "execution_count": null,
   "metadata": {
    "pycharm": {
     "is_executing": false,
     "name": "#%%\n"
    }
   },
   "outputs": [],
   "source": [
    "# for each community\n",
    "for key, community in top_communities.items():\n",
    "    # load concepts (with counts) for all corresponding tweets\n",
    "    community['concepts'] =  load_concept_counts(where=\"(tweet_body->'user'->>'id_str')::float IN ({})\".format(','.join(str(node) for node in community['nodes'])))"
   ]
  },
  {
   "cell_type": "code",
   "execution_count": 9,
   "metadata": {
    "pycharm": {
     "is_executing": false,
     "name": "#%%\n"
    }
   },
   "outputs": [],
   "source": [
    "# init empty dict of concepts\n",
    "overall_concept_counts = {}\n",
    "\n",
    "# run through all communities\n",
    "for key, community in top_communities.items():\n",
    "    # increment concept counter if concept found in this community\n",
    "    for concept in community['concepts']['concept']:\n",
    "        if concept not in overall_concept_counts:\n",
    "            overall_concept_counts[concept] = 0\n",
    "        else:\n",
    "            overall_concept_counts[concept] = overall_concept_counts[concept] + 1\n",
    "            "
   ]
  },
  {
   "cell_type": "code",
   "execution_count": 12,
   "metadata": {
    "pycharm": {
     "is_executing": false,
     "name": "#%%\n"
    }
   },
   "outputs": [
    {
     "data": {
      "image/png": "[encoded data removed]",
      "text/plain": [
       "<Figure size 432x288 with 1 Axes>"
      ]
     },
     "metadata": {
      "needs_background": "light"
     },
     "output_type": "display_data"
    }
   ],
   "source": [
    "# get the top 5 concepts\n",
    "top_overall_concept_counts_keys = nlargest(5, overall_concept_counts, key=overall_concept_counts.get)\n",
    "top_overall_concept_counts = {key : overall_concept_counts[key] for key in top_overall_concept_counts_keys}\n",
    "\n",
    "# plot them as a bar chart\n",
    "plt.bar(range(len(top_overall_concept_counts)), list(top_overall_concept_counts.values()), align='center')\n",
    "plt.xticks(range(len(top_overall_concept_counts)), list(top_overall_concept_counts.keys()))\n",
    "plt.show()"
   ]
  }
 ],
 "metadata": {
  "kernelspec": {
   "display_name": "Python 3",
   "language": "python",
   "name": "python3"
  },
  "language_info": {
   "codemirror_mode": {
    "name": "ipython",
    "version": 3
   },
   "file_extension": ".py",
   "mimetype": "text/x-python",
   "name": "python",
   "nbconvert_exporter": "python",
   "pygments_lexer": "ipython3",
   "version": "3.5.3"
  },
  "pycharm": {
   "stem_cell": {
    "cell_type": "raw",
    "metadata": {
     "collapsed": false
    },
    "source": []
   }
  }
 },
 "nbformat": 4,
 "nbformat_minor": 1
}
