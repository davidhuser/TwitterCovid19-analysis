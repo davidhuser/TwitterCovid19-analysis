{
 "cells": [
  {
   "cell_type": "code",
   "execution_count": 1,
   "metadata": {
    "pycharm": {
     "is_executing": false
    }
   },
   "outputs": [
    {
     "name": "stderr",
     "text": [
      "\n",
      "Bad key \"text.kerning_factor\" on line 4 in\n",
      "C:\\ProgramData\\Miniconda3\\envs\\TwitterCovid19\\lib\\site-packages\\matplotlib\\mpl-data\\stylelib\\_classic_test_patch.mplstyle.\n",
      "You probably need to get an updated matplotlibrc file from\n",
      "https://github.com/matplotlib/matplotlib/blob/v3.1.3/matplotlibrc.template\n",
      "or from the matplotlib source distribution\n"
     ],
     "output_type": "stream"
    }
   ],
   "source": [
    "from heapq import nlargest\n",
    "\n",
    "import matplotlib.pyplot as plt\n",
    "import networkx as nx\n",
    "import numpy as np\n",
    "import seaborn as sns\n",
    "\n",
    "from utilities import load_graph_from_files, get_communities, load_concept_counts\n",
    "%matplotlib inline"
   ]
  },
  {
   "cell_type": "code",
   "execution_count": 2,
   "metadata": {
    "pycharm": {
     "is_executing": false,
     "name": "#%%\n"
    }
   },
   "outputs": [],
   "source": [
    "# define your region\n",
    "REGION = 'netherlands'"
   ]
  },
  {
   "cell_type": "code",
   "execution_count": 3,
   "metadata": {
    "pycharm": {
     "is_executing": false,
     "name": "#%%\n"
    }
   },
   "outputs": [],
   "source": [
    "# load graph (and nodes, for relabeling)\n",
    "g, nodes_df = load_graph_from_files(region=REGION)"
   ]
  },
  {
   "cell_type": "code",
   "execution_count": 4,
   "metadata": {
    "pycharm": {
     "is_executing": false,
     "name": "#%%\n"
    }
   },
   "outputs": [],
   "source": [
    "# load partitions and communities\n",
    "partitions, _communities = get_communities(g)\n",
    "\n",
    "# wrap for nicer usage\n",
    "communities =  {key: {'nodes' : value} for key, value in _communities.items()}"
   ]
  },
  {
   "cell_type": "code",
   "execution_count": 5,
   "metadata": {
    "pycharm": {
     "is_executing": false,
     "name": "#%%\n"
    }
   },
   "outputs": [
    {
     "name": "stdout",
     "text": [
      "Amount of communities larger than the mean (18.745745745745747): 59\n"
     ],
     "output_type": "stream"
    },
    {
     "data": {
      "text/plain": "[(0, 3655.695753744778)]"
     },
     "metadata": {},
     "output_type": "execute_result",
     "execution_count": 5
    },
    {
     "data": {
      "text/plain": "<Figure size 432x288 with 1 Axes>",
      "image/png": "[encoded data removed]"
     },
     "metadata": {
      "needs_background": "light"
     },
     "output_type": "display_data"
    }
   ],
   "source": [
    "# get sizes for every community\n",
    "all_lens = [len(c['nodes']) for _, c in communities.items()]\n",
    "\n",
    "# get communities larger than the mean\n",
    "lens_larger_than_mean = [x for x in all_lens if x > np.mean(all_lens)]\n",
    "print('Amount of communities larger than the mean ({}): {}'.format(np.mean(all_lens), len(lens_larger_than_mean)))\n",
    "\n",
    "# plot distribution\n",
    "sns.distplot(lens_larger_than_mean).set(xlim=0)"
   ]
  },
  {
   "cell_type": "code",
   "execution_count": 6,
   "metadata": {
    "pycharm": {
     "name": "#%%\n",
     "is_executing": false
    }
   },
   "outputs": [],
   "source": [
    "# only includes communities with above average size\n",
    "top_communities = {}\n",
    "\n",
    "# for each community\n",
    "for key, community in communities.items():\n",
    "    # if its size is above average\n",
    "    if len(community['nodes']) > np.mean(all_lens):\n",
    "        top_communities[key] = community"
   ]
  },
  {
   "cell_type": "code",
   "execution_count": 7,
   "metadata": {
    "pycharm": {
     "is_executing": false,
     "name": "#%%\n"
    }
   },
   "outputs": [],
   "source": [
    "# for each community\n",
    "for key, community in top_communities.items():\n",
    "    \n",
    "    # create copy of graph\n",
    "    sub_g = nx.Graph(g)\n",
    "    \n",
    "    # remove all nodes that do not belong to community\n",
    "    sub_g.remove_nodes_from([node for node in g.nodes if node not in community['nodes']])\n",
    "    \n",
    "    # cache graph\n",
    "    community['graph'] = sub_g\n",
    "    \n",
    "    # order nodes by degree\n",
    "    degree_nodes = sorted(sub_g.degree, key=lambda x: x[1], reverse=True)\n",
    "    \n",
    "    # community named after node with highest degree\n",
    "    community['name'] = degree_nodes[0][0]"
   ]
  },
  {
   "cell_type": "code",
   "execution_count": 8,
   "outputs": [],
   "source": [
    "# for each community\n",
    "for key, community in top_communities.items():\n",
    "    # load concepts (with counts) for all corresponding tweets\n",
    "    community['concepts'] =  load_concept_counts(where=\"(tweet_body->'user'->>'id_str')::float IN ({})\".format(','.join(str(node) for node in community['nodes'])))"
   ],
   "metadata": {
    "collapsed": false,
    "pycharm": {
     "name": "#%%\n",
     "is_executing": false
    }
   }
  },
  {
   "cell_type": "code",
   "execution_count": 9,
   "outputs": [],
   "source": [
    "# init empty dict of concepts\n",
    "overall_concept_counts = {}\n",
    "\n",
    "# run through all communities\n",
    "for key, community in top_communities.items():\n",
    "    # increment concept counter if concept found in this community\n",
    "    for concept in community['concepts']['concept']:\n",
    "        if concept not in overall_concept_counts:\n",
    "            overall_concept_counts[concept] = 0\n",
    "        else:\n",
    "            overall_concept_counts[concept] = overall_concept_counts[concept] + 1\n",
    "            "
   ],
   "metadata": {
    "collapsed": false,
    "pycharm": {
     "name": "#%%\n",
     "is_executing": false
    }
   }
  },
  {
   "cell_type": "code",
   "execution_count": 12,
   "outputs": [
    {
     "data": {
      "text/plain": "<Figure size 432x288 with 1 Axes>",
      "image/png": "[encoded data removed]"
     },
     "metadata": {
      "needs_background": "light"
     },
     "output_type": "display_data"
    }
   ],
   "source": [
    "# get the top 5 concepts\n",
    "top_overall_concept_counts_keys = nlargest(5, overall_concept_counts, key=overall_concept_counts.get)\n",
    "top_overall_concept_counts = {key : overall_concept_counts[key] for key in top_overall_concept_counts_keys}\n",
    "\n",
    "# plot them as a bar chart\n",
    "plt.bar(range(len(top_overall_concept_counts)), list(top_overall_concept_counts.values()), align='center')\n",
    "plt.xticks(range(len(top_overall_concept_counts)), list(top_overall_concept_counts.keys()))\n",
    "plt.show()"
   ],
   "metadata": {
    "collapsed": false,
    "pycharm": {
     "name": "#%%\n",
     "is_executing": false
    }
   }
  }
 ],
 "metadata": {
  "kernelspec": {
   "display_name": "Python 3",
   "language": "python",
   "name": "python3"
  },
  "language_info": {
   "codemirror_mode": {
    "name": "ipython",
    "version": 3
   },
   "file_extension": ".py",
   "mimetype": "text/x-python",
   "name": "python",
   "nbconvert_exporter": "python",
   "pygments_lexer": "ipython3",
   "version": "3.7.6"
  },
  "pycharm": {
   "stem_cell": {
    "cell_type": "raw",
    "source": [],
    "metadata": {
     "collapsed": false
    }
   }
  }
 },
 "nbformat": 4,
 "nbformat_minor": 1
}